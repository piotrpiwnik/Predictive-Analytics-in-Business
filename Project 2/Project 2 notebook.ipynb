{
 "cells": [
  {
   "cell_type": "code",
   "execution_count": 1,
   "id": "4e4df173",
   "metadata": {},
   "outputs": [],
   "source": [
    "import os\n",
    "import pandas as pd\n",
    "import numpy as np\n",
    "import matplotlib.pyplot as plt\n",
    "%matplotlib inline\n",
    "import seaborn as sns; sns.set()\n",
    "import sys\n"
   ]
  },
  {
   "cell_type": "markdown",
   "metadata": {},
   "source": [
    "# 0. Data preparation"
   ]
  },
  {
   "cell_type": "code",
   "execution_count": null,
   "id": "a6b81e3d",
   "metadata": {},
   "outputs": [],
   "source": [
    "### PLEASE CHANGE THE WORKING/FILE DIRECTORY! THANK YOU\n",
    "#Set the working directory\n",
    "os.chdir('C:\\\\Users\\\\piotr\\\\OneDrive - Erasmus University Rotterdam\\\\Documents\\\\Github repositories\\\\Predictive-Analytics-in-Business\\\\Project 2\\\\')"
   ]
  },
  {
   "cell_type": "code",
   "execution_count": null,
   "metadata": {},
   "outputs": [],
   "source": [
    "# # Step 1: Load the original Excel file\n",
    "# file_path = 'crunchbase_data.xlsx'  # Replace with your file path\n",
    "\n",
    "# # Step 2: Read each sheet into a separate DataFrame\n",
    "# companies_df = pd.read_excel(file_path, sheet_name='Companies')\n",
    "# rounds_df = pd.read_excel(file_path, sheet_name='Rounds')\n",
    "# investments_df = pd.read_excel(file_path, sheet_name='Investments')\n",
    "# acquisitions_df = pd.read_excel(file_path, sheet_name='Acquisitions')\n",
    "\n",
    "# # Step 3: Save each DataFrame as a new Excel file\n",
    "# companies_df.to_excel('Companies.xlsx', index=False)\n",
    "# rounds_df.to_excel('Rounds.xlsx', index=False)\n",
    "# investments_df.to_excel('Investments.xlsx', index=False)\n",
    "# acquisitions_df.to_excel('Acquisitions.xlsx', index=False)\n",
    "\n",
    "# Step 4: Loading the saved files (demonstration)\n",
    "# You can load these files later as needed\n",
    "df_org = pd.read_excel('Companies.xlsx')\n",
    "df_rd = pd.read_excel('Rounds.xlsx')\n",
    "df_inv = pd.read_excel('Investments.xlsx')\n",
    "df_aq = pd.read_excel('Acquisitions.xlsx')\n"
   ]
  },
  {
   "cell_type": "code",
   "execution_count": null,
   "metadata": {},
   "outputs": [],
   "source": [
    "# df_org = pd.read_excel('Companies.xlsx')"
   ]
  },
  {
   "cell_type": "code",
   "execution_count": null,
   "metadata": {},
   "outputs": [],
   "source": [
    "#shapes of al;l dfs\n",
    "print('Original dataframes')\n",
    "print(df_org.shape)\n",
    "print(df_rd.shape)\n",
    "print(df_inv.shape)\n",
    "print(df_aq.shape)"
   ]
  },
  {
   "attachments": {},
   "cell_type": "markdown",
   "id": "5c1a9d6c",
   "metadata": {
    "jp-MarkdownHeadingCollapsed": true,
    "tags": []
   },
   "source": [
    "# 1. Data Cleaning"
   ]
  },
  {
   "cell_type": "code",
   "execution_count": null,
   "metadata": {},
   "outputs": [],
   "source": [
    "# NA number in df_org\n",
    "df_org.isna().sum()"
   ]
  },
  {
   "cell_type": "code",
   "execution_count": null,
   "metadata": {},
   "outputs": [],
   "source": [
    "df_org"
   ]
  },
  {
   "cell_type": "code",
   "execution_count": null,
   "metadata": {},
   "outputs": [],
   "source": [
    "#Drop na in df_org['founded at'] and print the number of observations\n",
    "df_org_2 = df_org.dropna(subset=['founded_at'])\n",
    "df_org_2.shape"
   ]
  },
  {
   "cell_type": "code",
   "execution_count": null,
   "metadata": {},
   "outputs": [],
   "source": [
    "# NA in df_org_2\n",
    "df_org_2.isna().sum()"
   ]
  },
  {
   "cell_type": "code",
   "execution_count": null,
   "metadata": {},
   "outputs": [],
   "source": [
    "# Convert to datetime, set out-of-bounds dates to NaT\n",
    "df_org_2['founded_at'] = pd.to_datetime(df_org_2['founded_at'], errors='coerce')\n",
    "\n",
    "# Count the NaT values (which are the out-of-bounds dates)\n",
    "nat_count = df_org_2['founded_at'].isna().sum()\n",
    "print(f\"Number of out-of-bounds dates: {nat_count}\")\n",
    "\n",
    "# Remove the rows with NaT values in 'founded_at'\n",
    "df_org_2 = df_org_2.dropna(subset=['founded_at'])\n"
   ]
  },
  {
   "cell_type": "code",
   "execution_count": null,
   "metadata": {},
   "outputs": [],
   "source": [
    "\n",
    "# df_org_3 column \n",
    "# df_org_2.dtypes\n",
    "\n",
    "# Change founded_at to datetime\n",
    "df_org_2['founded_at'] = pd.to_datetime(df_org_2['founded_at'])"
   ]
  },
  {
   "cell_type": "code",
   "execution_count": null,
   "metadata": {},
   "outputs": [],
   "source": [
    "#Limit the data to 1990 onwards\n",
    "df_org_3 = df_org_2[df_org_2['founded_at'] > '1990-01-01']"
   ]
  },
  {
   "cell_type": "code",
   "execution_count": null,
   "metadata": {},
   "outputs": [],
   "source": [
    "df_org_3.shape\n"
   ]
  },
  {
   "cell_type": "code",
   "execution_count": null,
   "metadata": {},
   "outputs": [],
   "source": [
    "# df_org_3 na count\n",
    "df_org_3.isna().sum()"
   ]
  },
  {
   "cell_type": "code",
   "execution_count": null,
   "metadata": {},
   "outputs": [],
   "source": [
    "#Describe the df_org_3 {'founded_at'}\n",
    "df_org_3['founded_at'].describe()"
   ]
  },
  {
   "cell_type": "code",
   "execution_count": null,
   "metadata": {},
   "outputs": [],
   "source": [
    "df_org = df_org_3.copy()"
   ]
  },
  {
   "cell_type": "code",
   "execution_count": null,
   "metadata": {},
   "outputs": [],
   "source": [
    "# Get the shapes\n",
    "print('Aquisitions: ', df_aq.shape)\n",
    "print('Investments: ', df_inv.shape)\n",
    "print('Organizations: ', df_org.shape)\n",
    "print('Rounds: ', df_rd.shape)"
   ]
  },
  {
   "cell_type": "markdown",
   "id": "ae54f786",
   "metadata": {},
   "source": [
    "### Cleaning"
   ]
  },
  {
   "cell_type": "code",
   "execution_count": null,
   "id": "a6a8a867",
   "metadata": {},
   "outputs": [],
   "source": [
    "# Clean column names - get rid of extra whitespaces\n",
    "df_rd = df_rd.rename(columns=lambda x: x.strip())\n",
    "df_aq = df_aq.rename(columns=lambda x: x.strip())\n",
    "df_org = df_org.rename(columns=lambda x: x.strip())\n",
    "df_inv = df_inv.rename(columns=lambda x: x.strip())"
   ]
  },
  {
   "cell_type": "code",
   "execution_count": null,
   "id": "37f35bbb",
   "metadata": {},
   "outputs": [],
   "source": [
    "# Convert the 'raised_amount_usd' column of df_inv to strings and then replace commas\n",
    "df_inv['raised_amount_usd'] = df_inv['raised_amount_usd'].astype(str).str.replace(',', '')\n",
    "# Convert the modified column to numeric\n",
    "df_inv['raised_amount_usd'] = pd.to_numeric(df_inv['raised_amount_usd'], errors='coerce')\n",
    "\n",
    "# Do the same for the 'raised_amount_usd' column of df_rd\n",
    "df_rd['raised_amount_usd'] = df_rd['raised_amount_usd'].astype(str).str.replace(',', '')\n",
    "df_rd['raised_amount_usd'] = pd.to_numeric(df_rd['raised_amount_usd'], errors='coerce')\n",
    "\n",
    "# And for the 'price_amount' column of df_aq\n",
    "df_aq['price_amount'] = df_aq['price_amount'].astype(str).str.replace(',', '')\n",
    "df_aq['price_amount'] = pd.to_numeric(df_aq['price_amount'], errors='coerce')\n"
   ]
  },
  {
   "cell_type": "code",
   "execution_count": null,
   "id": "a310a246",
   "metadata": {},
   "outputs": [],
   "source": [
    "# Create variables on quarters/months \n",
    "df_inv['funded_month'] = df_inv['funded_month'].str[-2:]\n",
    "df_inv['funded_quarter'] = df_inv['funded_quarter'].str[-2:]\n",
    "\n",
    "df_aq['acquired_month'] = df_aq['acquired_month'].str[-2:]\n",
    "df_aq['acquired_quarter'] = df_aq['acquired_quarter'].str[-2:]\n",
    "\n",
    "df_rd['funded_month'] = df_rd['funded_month'].str[-2:]\n",
    "df_rd['funded_quarter'] = df_rd['funded_quarter'].str[-2:]"
   ]
  },
  {
   "cell_type": "code",
   "execution_count": null,
   "metadata": {},
   "outputs": [],
   "source": [
    "#Types of columns in df_org\n",
    "df_org"
   ]
  },
  {
   "cell_type": "code",
   "execution_count": null,
   "metadata": {},
   "outputs": [],
   "source": [
    "#Display types of columns and number of NA'\n",
    "# df_org.dtypes\n",
    "df_org.isna().sum()"
   ]
  },
  {
   "cell_type": "code",
   "execution_count": null,
   "metadata": {},
   "outputs": [],
   "source": [
    "# Convert 'founded_at' to datetime, coerce out-of-bounds dates to NaT\n",
    "df_org['founded_at'] = pd.to_datetime(df_org['founded_at'], format='%Y-%m-%d', errors='coerce')\n",
    "\n",
    "# Count the number of NaT values (which are the out-of-bounds dates)\n",
    "nat_count_org = df_org['founded_at'].isna().sum()\n",
    "print(f\"Number of out-of-bounds dates in df_org: {nat_count_org}\")\n",
    "\n",
    "# Remove the rows with NaT values in 'founded_at'\n",
    "df_org = df_org.dropna(subset=['founded_at'])\n",
    "\n",
    "# Repeat the process for other columns\n",
    "df_inv['funded_year'] = pd.to_datetime(df_inv['funded_year'], format='%Y', errors='coerce')\n",
    "nat_count_inv = df_inv['funded_year'].isna().sum()\n",
    "print(f\"Number of out-of-bounds dates in df_inv: {nat_count_inv}\")\n",
    "df_inv = df_inv.dropna(subset=['funded_year'])\n",
    "\n",
    "df_aq['acquired_year'] = pd.to_datetime(df_aq['acquired_year'], format='%Y', errors='coerce')\n",
    "nat_count_aq = df_aq['acquired_year'].isna().sum()\n",
    "print(f\"Number of out-of-bounds dates in df_aq: {nat_count_aq}\")\n",
    "df_aq = df_aq.dropna(subset=['acquired_year'])\n"
   ]
  },
  {
   "cell_type": "code",
   "execution_count": null,
   "id": "20e7b347",
   "metadata": {},
   "outputs": [],
   "source": [
    "# Fix the datetime format\n",
    "df_org['founded_at'] = pd.to_datetime(df_org['founded_at'], format = '%Y-%m-%d')\n",
    "df_inv['funded_year'] = pd.to_datetime(df_inv['funded_year'], format='%Y')\n",
    "df_aq['acquired_year'] = pd.to_datetime(df_aq['acquired_year'], format='%Y')"
   ]
  },
  {
   "cell_type": "code",
   "execution_count": null,
   "id": "798f5eef",
   "metadata": {},
   "outputs": [],
   "source": [
    "# Now the conversion should work\n",
    "df_aq['acquired_at']= pd.to_datetime(df_aq['acquired_at'], format = '%Y-%m-%d')"
   ]
  },
  {
   "cell_type": "markdown",
   "id": "33007b95",
   "metadata": {},
   "source": [
    "### Empty rows and duplicates"
   ]
  },
  {
   "cell_type": "code",
   "execution_count": null,
   "id": "643bfd97",
   "metadata": {},
   "outputs": [],
   "source": [
    "# Get the shapes\n",
    "print('Aquisitions: ', df_aq.shape)\n",
    "print('Investments: ', df_inv.shape)\n",
    "print('Organizations: ', df_org.shape)\n",
    "print('Rounds: ', df_rd.shape)"
   ]
  },
  {
   "cell_type": "code",
   "execution_count": null,
   "id": "6fb14e7f",
   "metadata": {},
   "outputs": [],
   "source": [
    "# Drop rows that are fully empty\n",
    "df_aq.dropna(axis=0, how='all', inplace=True)\n",
    "df_inv.dropna(axis=0, how='all', inplace=True)\n",
    "df_org.dropna(axis=0, how='all', inplace=True)\n",
    "df_rd.dropna(axis=0, how='all', inplace=True)"
   ]
  },
  {
   "cell_type": "code",
   "execution_count": null,
   "id": "cdf395ae",
   "metadata": {},
   "outputs": [],
   "source": [
    "# Get the shapes\n",
    "print('Aquisitions: ', df_aq.shape)\n",
    "print('Investments: ', df_inv.shape)\n",
    "print('Organizations: ', df_org.shape)\n",
    "print('Rounds: ', df_rd.shape)"
   ]
  },
  {
   "cell_type": "code",
   "execution_count": null,
   "id": "0102a0dc",
   "metadata": {},
   "outputs": [],
   "source": [
    "print('Fully duplicated rows')\n",
    "print('AQ', df_aq.duplicated().sum())\n",
    "print('INV', df_inv.duplicated().sum())\n",
    "print('ORG', df_org.duplicated().sum())\n",
    "print('RD', df_rd.duplicated().sum())"
   ]
  },
  {
   "cell_type": "code",
   "execution_count": null,
   "id": "60ed0f9f",
   "metadata": {},
   "outputs": [],
   "source": [
    "# Getting rid of 58 full duplicates\n",
    "df_aq.drop_duplicates(inplace=True)"
   ]
  },
  {
   "cell_type": "markdown",
   "id": "e78af64c",
   "metadata": {},
   "source": [
    "## Imputing each dataset separately and merging"
   ]
  },
  {
   "cell_type": "markdown",
   "id": "118da3e9",
   "metadata": {},
   "source": [
    "### Organizations dataset"
   ]
  },
  {
   "cell_type": "code",
   "execution_count": null,
   "metadata": {},
   "outputs": [],
   "source": [
    "#Drop the missing value ['name'] in df_org\n",
    "df_org.dropna(subset=['name'], inplace=True)"
   ]
  },
  {
   "cell_type": "code",
   "execution_count": null,
   "id": "15577ead",
   "metadata": {},
   "outputs": [],
   "source": [
    "df_org.isna().sum()"
   ]
  },
  {
   "cell_type": "markdown",
   "id": "4f5ffdb2",
   "metadata": {},
   "source": [
    "This is the base dataset that all of the other datasets will be merged to. For now we will take care of the missing variables for state code and market. Status will be filled in once we merge the organisations and acquisitions dataset.  "
   ]
  },
  {
   "cell_type": "code",
   "execution_count": null,
   "id": "ee396259",
   "metadata": {},
   "outputs": [],
   "source": [
    "# checking for any missing variables for market, but which have a category list and imputing based on that\n",
    "df_org[(df_org['market'].isna()) & (df_org['category_list'].notnull())]"
   ]
  },
  {
   "cell_type": "code",
   "execution_count": null,
   "id": "82686ab2",
   "metadata": {},
   "outputs": [],
   "source": [
    "# we notice that the state code is missing for non-US countries so we impute that data in\n",
    "df_org['state_code'].fillna('non-US', inplace = True)"
   ]
  },
  {
   "cell_type": "markdown",
   "id": "ac06f2ec",
   "metadata": {},
   "source": [
    "### Rounds dataset"
   ]
  },
  {
   "cell_type": "markdown",
   "id": "0dace784",
   "metadata": {},
   "source": [
    "Since we are getting these datasets ready for merging, we subset it on the data that will be added to the organisations dataset. The other datapoints are already included in the organisations dataset."
   ]
  },
  {
   "cell_type": "code",
   "execution_count": null,
   "id": "718154f3",
   "metadata": {},
   "outputs": [],
   "source": [
    "rounds_sub = ['company_permalink', 'funding_round_permalink', 'funding_round_type', 'funding_round_code', 'funded_at', 'funded_month', 'funded_quarter', 'funded_year', 'raised_amount_usd']\n",
    "df_rd_sub = df_rd[rounds_sub]"
   ]
  },
  {
   "cell_type": "code",
   "execution_count": null,
   "id": "be29d674",
   "metadata": {},
   "outputs": [],
   "source": [
    "df_rd_sub.isna().sum()"
   ]
  },
  {
   "cell_type": "code",
   "execution_count": null,
   "metadata": {},
   "outputs": [],
   "source": [
    "df_rd_sub['funded_at']"
   ]
  },
  {
   "cell_type": "code",
   "execution_count": null,
   "metadata": {},
   "outputs": [],
   "source": [
    "# Or, Option 3: Coerce out-of-bounds dates to NaT\n",
    "df_rd_sub['funded_at'] = pd.to_datetime(df_rd_sub['funded_at'], format='%Y-%m-%d', errors='coerce')"
   ]
  },
  {
   "cell_type": "code",
   "execution_count": null,
   "id": "9597e641",
   "metadata": {},
   "outputs": [],
   "source": [
    "df_rd_sub['funded_month'] = df_rd_sub['funded_at'].dt.month\n",
    "df_rd_sub['funded_year'] = df_rd_sub['funded_at'].dt.year\n",
    "df_rd_sub['funded_quarter'] = df_rd_sub['funded_at'].dt.quarter"
   ]
  },
  {
   "cell_type": "code",
   "execution_count": null,
   "id": "fbe8b51a",
   "metadata": {},
   "outputs": [],
   "source": [
    "#filling in funding_round_code with the value unknown\n",
    "df_rd_sub['funding_round_code'].fillna('Unknown', inplace = True)"
   ]
  },
  {
   "cell_type": "markdown",
   "id": "e91574ba",
   "metadata": {},
   "source": [
    "#### First merge - organisations and rounds dataset"
   ]
  },
  {
   "cell_type": "code",
   "execution_count": null,
   "id": "855e5c16",
   "metadata": {},
   "outputs": [],
   "source": [
    "# Merge\n",
    "df_merge_1 = pd.merge(df_org, df_rd_sub, how='left', left_on='permalink', right_on='company_permalink')\n",
    "\n",
    "# Remove duplicate column from the right table\n",
    "df_merge_1.drop('company_permalink', axis=1, inplace=True)"
   ]
  },
  {
   "cell_type": "code",
   "execution_count": null,
   "id": "bbe73431",
   "metadata": {},
   "outputs": [],
   "source": [
    "# converting the raised amount variable to numeric\n",
    "df_merge_1['raised_amount_usd'] = pd.to_numeric(df_merge_1['raised_amount_usd'], errors = 'coerce')"
   ]
  },
  {
   "cell_type": "code",
   "execution_count": null,
   "id": "cf31a673",
   "metadata": {},
   "outputs": [],
   "source": [
    "df_merge_1.shape"
   ]
  },
  {
   "cell_type": "markdown",
   "id": "8beccf73",
   "metadata": {},
   "source": [
    "### Acquisitions dataset"
   ]
  },
  {
   "cell_type": "markdown",
   "id": "8e7b73b9",
   "metadata": {},
   "source": [
    "Only a subset of these variable will be used for the modelling from the dataset as many are already included in the original organisation dataset (i.e. company information). "
   ]
  },
  {
   "cell_type": "code",
   "execution_count": null,
   "id": "9c4542f1",
   "metadata": {},
   "outputs": [],
   "source": [
    "acquisitions_sub = ['company_permalink', 'acquirer_permalink', 'acquirer_name', 'acquirer_category_list', 'acquirer_market', \n",
    "                    'acquirer_country_code', 'acquirer_state_code', 'acquirer_region', 'acquirer_city', 'acquired_at', \n",
    "                    'acquired_month', 'acquired_quarter', 'acquired_year', 'price_amount', 'price_currency_code']\n",
    "\n",
    "df_aq_sub = df_aq[acquisitions_sub]"
   ]
  },
  {
   "cell_type": "code",
   "execution_count": null,
   "id": "73e8e3d9",
   "metadata": {},
   "outputs": [],
   "source": [
    "df_aq_sub.isna().sum() "
   ]
  },
  {
   "cell_type": "code",
   "execution_count": null,
   "id": "93cb87a5",
   "metadata": {},
   "outputs": [],
   "source": [
    "# checking for any cases where the market information is missing but the category list info is not and using that to fill in the values\n",
    "df_aq_sub[(df_aq_sub['acquirer_market'].isna()) & (df_aq_sub['acquirer_category_list'].notnull())]"
   ]
  },
  {
   "cell_type": "markdown",
   "id": "260d5267",
   "metadata": {},
   "source": [
    "We can fill in the few missing month/year/quarter values with the acquired date variable. "
   ]
  },
  {
   "cell_type": "code",
   "execution_count": null,
   "id": "f9f1515a",
   "metadata": {},
   "outputs": [],
   "source": [
    "# Fix the datetime format\n",
    "df_aq_sub['acquired_month'] = df_aq_sub['acquired_at'].dt.month\n",
    "df_aq_sub['acquired_year'] = df_aq_sub['acquired_at'].dt.year\n",
    "df_aq_sub['acquired_quarter'] = df_aq_sub['acquired_at'].dt.quarter"
   ]
  },
  {
   "cell_type": "markdown",
   "id": "0fd68881",
   "metadata": {},
   "source": [
    "The remaining missing values are filled with the term 'unknown'. "
   ]
  },
  {
   "cell_type": "code",
   "execution_count": null,
   "id": "b9b80656",
   "metadata": {},
   "outputs": [],
   "source": [
    "df_aq_sub['acquirer_market'].fillna('Unknown', inplace = True)\n",
    "df_aq_sub['acquirer_category_list'].fillna('Unknown', inplace = True)\n",
    "\n",
    "#where the value is missing and the acquirer country code is not empty - should happen only for non-US countries\n",
    "df_aq_sub['acquirer_state_code'] = np.where((df_aq_sub['acquirer_country_code'].notnull()) & \n",
    "                                            (df_aq_sub['acquirer_state_code'].isna()), 'non-US', df_aq_sub['acquirer_state_code'])\n",
    "#fill the rest with unknown\n",
    "df_aq_sub['acquirer_state_code'].fillna('Unknown', inplace = True)\n",
    "df_aq_sub['acquirer_country_code'].fillna('Unknown', inplace = True)\n",
    "df_aq_sub['acquirer_region'].fillna('Unknown', inplace = True)\n",
    "df_aq_sub['acquirer_city'].fillna('Unknown', inplace = True)\n",
    "df_aq_sub['price_currency_code'].fillna('Unknown', inplace = True)"
   ]
  },
  {
   "cell_type": "markdown",
   "id": "251ff98c",
   "metadata": {},
   "source": [
    "#### Second merge - previous dataset and acquisitions"
   ]
  },
  {
   "cell_type": "code",
   "execution_count": null,
   "id": "18b72d29",
   "metadata": {},
   "outputs": [],
   "source": [
    "df_merge_2 = pd.merge(df_merge_1, df_aq_sub, how = 'left', left_on = 'permalink', right_on = 'company_permalink')\n",
    "df_merge_2.drop('company_permalink', axis = 1, inplace = True)"
   ]
  },
  {
   "cell_type": "code",
   "execution_count": null,
   "id": "d563037f",
   "metadata": {},
   "outputs": [],
   "source": [
    "df_merge_2.shape"
   ]
  },
  {
   "cell_type": "code",
   "execution_count": null,
   "id": "8535c200",
   "metadata": {},
   "outputs": [],
   "source": [
    "df_merge_1.shape"
   ]
  },
  {
   "cell_type": "markdown",
   "id": "eebf1c0c",
   "metadata": {},
   "source": [
    "Comparing the number of rows between the two datasets, we see the number of rows increased slightly. This is because some companies have multiple acquirers."
   ]
  },
  {
   "cell_type": "code",
   "execution_count": null,
   "id": "dbc2ac09",
   "metadata": {},
   "outputs": [],
   "source": [
    "df_merge_2.isna().sum()"
   ]
  },
  {
   "cell_type": "markdown",
   "id": "4031e35b",
   "metadata": {},
   "source": [
    "### Investments dataset"
   ]
  },
  {
   "cell_type": "code",
   "execution_count": null,
   "id": "8f07a093",
   "metadata": {},
   "outputs": [],
   "source": [
    "inv_sub = ['funding_round_permalink', 'investor_permalink', 'investor_name', \n",
    "           'investor_country_code', 'investor_region', 'investor_city']\n",
    "df_inv_sub = df_inv[inv_sub]"
   ]
  },
  {
   "cell_type": "code",
   "execution_count": null,
   "id": "15616540",
   "metadata": {},
   "outputs": [],
   "source": [
    "df_inv_sub.isna().sum()"
   ]
  },
  {
   "cell_type": "markdown",
   "id": "750ceaa4",
   "metadata": {},
   "source": [
    "Based on the variables on display here, only two of the variables would be actually used in the final modelling phase - investor country code and investor region. Let's also check whether there are any cases where the city is known but the region is not."
   ]
  },
  {
   "cell_type": "code",
   "execution_count": null,
   "id": "31f41a81",
   "metadata": {},
   "outputs": [],
   "source": [
    "df_inv_sub[(df_inv_sub['investor_region'].isna()) & (df_inv_sub['investor_city'].notnull())]"
   ]
  },
  {
   "cell_type": "markdown",
   "id": "d188896a",
   "metadata": {},
   "source": [
    "It seems that is never the case. This means we can go ahead and drop the missing observations for investor country code and investor region, since these add no value."
   ]
  },
  {
   "cell_type": "code",
   "execution_count": null,
   "id": "0ae279f7",
   "metadata": {},
   "outputs": [],
   "source": [
    "df_inv_sub.dropna(subset = ['investor_region'], axis = 0, inplace = True)"
   ]
  },
  {
   "cell_type": "markdown",
   "id": "5c98b2f2",
   "metadata": {},
   "source": [
    "There are only a few missing values for investor city, which can again be filled by unknown."
   ]
  },
  {
   "cell_type": "code",
   "execution_count": null,
   "id": "c50c4a77",
   "metadata": {},
   "outputs": [],
   "source": [
    "df_inv_sub['investor_city'].fillna('Unknown', inplace = True)"
   ]
  },
  {
   "cell_type": "markdown",
   "id": "f0f7b5e3",
   "metadata": {},
   "source": [
    "### Creating the final dataset"
   ]
  },
  {
   "cell_type": "code",
   "execution_count": null,
   "id": "9925b041",
   "metadata": {},
   "outputs": [],
   "source": [
    "df_full = pd.merge(df_merge_2, df_inv_sub, how = 'left', on = 'funding_round_permalink')"
   ]
  },
  {
   "cell_type": "code",
   "execution_count": null,
   "id": "2b86b82a",
   "metadata": {},
   "outputs": [],
   "source": [
    "df_full.shape"
   ]
  },
  {
   "cell_type": "code",
   "execution_count": null,
   "id": "b4808621",
   "metadata": {},
   "outputs": [],
   "source": [
    "# Fully empty rows at this point?\n",
    "df_full.dropna(how='all', inplace=True)"
   ]
  },
  {
   "cell_type": "code",
   "execution_count": null,
   "id": "2ca3eb5c",
   "metadata": {},
   "outputs": [],
   "source": [
    "df_full.shape # none of the rows are fully empty now"
   ]
  },
  {
   "cell_type": "code",
   "execution_count": null,
   "id": "c9dabbcc",
   "metadata": {},
   "outputs": [],
   "source": [
    "df_full.isna().sum()"
   ]
  },
  {
   "cell_type": "markdown",
   "id": "d84e18c5",
   "metadata": {},
   "source": [
    "#### Imptutation of the remaining missing variables in our merged dataset"
   ]
  },
  {
   "cell_type": "code",
   "execution_count": null,
   "id": "fb994006",
   "metadata": {},
   "outputs": [],
   "source": [
    "# if `raised_amount_usd`` is larger than 0 and `status` is n/a - fill with string \"acquired\"\n",
    "df_full['status'] = np.where((df_full['acquirer_permalink'].notnull()) & (df_full['status'].isna()), 'acquired', df_full['status'])\n",
    "\n",
    "# for the rest of the empty status - change to unknown\n",
    "df_full['status'] = np.where(df_full['status'].isna(), 'Unknown', df_full['status'])"
   ]
  },
  {
   "cell_type": "code",
   "execution_count": null,
   "id": "d135930d",
   "metadata": {},
   "outputs": [],
   "source": [
    "#drop the 10 observations with a missing funding round permalink and other info\n",
    "df_full.dropna(subset = ['funding_round_permalink'], axis = 0, inplace = True)"
   ]
  },
  {
   "cell_type": "code",
   "execution_count": null,
   "id": "a71a3518",
   "metadata": {},
   "outputs": [],
   "source": [
    "# fill in the other modeling variables with none using regular expressions\n",
    "import re\n",
    "\n",
    "col_names = list(df_full.columns)\n",
    "r = re.compile('acquirer\\S+|investor\\S+')\n",
    "to_fill = list(filter(r.match, col_names))\n",
    "to_fill\n",
    "\n",
    "df_full[to_fill] = df_full[to_fill].fillna('None')"
   ]
  },
  {
   "cell_type": "code",
   "execution_count": null,
   "id": "98d79d2f",
   "metadata": {},
   "outputs": [],
   "source": [
    "df_full.isna().sum()"
   ]
  },
  {
   "cell_type": "code",
   "execution_count": null,
   "id": "13e1358b",
   "metadata": {},
   "outputs": [],
   "source": [
    "# filling in the price information - the price amount where the acquirer information is missing is kept empty for now\n",
    "df_full['price_currency_code'].fillna('None', inplace = True)\n",
    "df_full['price_amount'] = np.where((df_full['acquired_at'].isna()) & (df_full['price_amount'].isna()), 0, df_full['price_amount'])"
   ]
  },
  {
   "cell_type": "code",
   "execution_count": null,
   "id": "f9f1f23c",
   "metadata": {},
   "outputs": [],
   "source": [
    "# Drop empty rows that are left\n",
    "df_full.dropna(how = 'all', inplace=True)\n",
    "\n",
    "df_full.reset_index(inplace=True, drop=True)"
   ]
  },
  {
   "cell_type": "code",
   "execution_count": null,
   "id": "440a96c2",
   "metadata": {},
   "outputs": [],
   "source": [
    "# What are we working with now in terms of observations and features?\n",
    "df_full.shape"
   ]
  },
  {
   "cell_type": "code",
   "execution_count": null,
   "id": "8f961720",
   "metadata": {},
   "outputs": [],
   "source": [
    "for i, col in enumerate(df_full.columns):\n",
    "    print(i, col)"
   ]
  },
  {
   "cell_type": "code",
   "execution_count": null,
   "metadata": {},
   "outputs": [],
   "source": [
    "# #Drop NA from the merged data - columns: raised_amount_usd, funded_at, funded_month \n",
    "# df_reordered.dropna(subset=['raised_amount_usd', 'funded_at', 'funded_month'], inplace=True)                 "
   ]
  },
  {
   "cell_type": "code",
   "execution_count": null,
   "metadata": {},
   "outputs": [],
   "source": [
    "df_full"
   ]
  },
  {
   "cell_type": "code",
   "execution_count": null,
   "metadata": {},
   "outputs": [],
   "source": [
    "df_reordered.isna().sum()"
   ]
  },
  {
   "cell_type": "code",
   "execution_count": null,
   "metadata": {},
   "outputs": [],
   "source": []
  },
  {
   "cell_type": "code",
   "execution_count": null,
   "metadata": {},
   "outputs": [],
   "source": []
  },
  {
   "cell_type": "code",
   "execution_count": null,
   "metadata": {},
   "outputs": [],
   "source": []
  },
  {
   "cell_type": "code",
   "execution_count": null,
   "metadata": {},
   "outputs": [],
   "source": [
    "# reset index df_reordered\n",
    "df_full.reset_index(drop=True, inplace=True)\n",
    "df_full.to_csv('df_full.csv', index=False)"
   ]
  },
  {
   "cell_type": "code",
   "execution_count": null,
   "id": "2425e527",
   "metadata": {},
   "outputs": [],
   "source": [
    "# # reset index df_reordered\n",
    "# df_reordered.reset_index(drop=True, inplace=True)"
   ]
  },
  {
   "cell_type": "code",
   "execution_count": null,
   "metadata": {},
   "outputs": [],
   "source": [
    "# #Write csv df_reordered\n",
    "# df_reordered.to_csv('df_reordered.csv', index=False)"
   ]
  },
  {
   "cell_type": "markdown",
   "id": "47c6a625",
   "metadata": {
    "jp-MarkdownHeadingCollapsed": true,
    "tags": []
   },
   "source": [
    "# 2. Exploratory Data Analysis - Separate Data Sets"
   ]
  },
  {
   "attachments": {},
   "cell_type": "markdown",
   "id": "7435b666",
   "metadata": {},
   "source": [
    "Key Insights from Exploratory Data Analysis:\n",
    "\n",
    "ORGANIZATIONS & INVESTMENTS, GENERAL TRENDS FOR ALL DATA FRAMES:\n",
    "\t\n",
    "COUNTRIES:\n",
    "\n",
    "• Software has been the biggest market  in terms of number of start-ups funded.\n",
    "\n",
    "• In the US, which is the biggest start-up market in the world by a great margin, most start-ups were founded in California, New York and Massachusetts.\n",
    "\n",
    "MARKETS:\n",
    "\n",
    "• Biotechnology sector has received the highest part of total financing over the years.\n",
    "\n",
    "• TOP 10 markets have a great share in both: Number of start-ups founded and funding received.\n",
    "\n",
    "FUNDING:\n",
    "\n",
    "• Start-up funding is highly positively skewed. The amount of total funding received is varies from a few couple thousand USD to 5.7 bn USD.\n",
    " \n",
    "• The level of start-up financing corresponded with the most significant macronomiceconomic events, such as dot-com bubble or the US financial crisis of 2008.\n"
   ]
  },
  {
   "attachments": {},
   "cell_type": "markdown",
   "id": "9473186a",
   "metadata": {},
   "source": [
    "ROUNDS:\n",
    "\t\n",
    "The mean raised amount has grown exponentially from round A to round H\n",
    "\n",
    "In rounds that were classified as the following types:\n",
    "\t\n",
    "Post IPO Debt\n",
    "\n",
    "Secondary Market\n",
    "\n",
    "Post IPO Equity\n",
    "\n",
    "Private Equity\n",
    "\n",
    "the mean raised amount was substantially higher than among other types.\n",
    "\t\n",
    "ACQUISITIONS:\n",
    "\n",
    "The mean acquisition price has decreased in the periods of economic downturn\n",
    "\n",
    "Acquisition prices in the first quarter were much higher than in the other quarters"
   ]
  },
  {
   "cell_type": "code",
   "execution_count": null,
   "id": "12ffbee1",
   "metadata": {},
   "outputs": [],
   "source": [
    "pd.set_option('display.max_columns', None)"
   ]
  },
  {
   "cell_type": "markdown",
   "id": "d2c93aa0",
   "metadata": {},
   "source": [
    "## 2.1 Organisations"
   ]
  },
  {
   "cell_type": "code",
   "execution_count": null,
   "id": "1a5059ed",
   "metadata": {},
   "outputs": [],
   "source": [
    "df_org.head(10)"
   ]
  },
  {
   "cell_type": "markdown",
   "id": "2ebfa58e",
   "metadata": {},
   "source": [
    "### 2.1.1 Descriptive statistics"
   ]
  },
  {
   "cell_type": "code",
   "execution_count": null,
   "id": "7242a252",
   "metadata": {},
   "outputs": [],
   "source": [
    "df_org.describe()"
   ]
  },
  {
   "cell_type": "markdown",
   "id": "cb0c0687",
   "metadata": {},
   "source": [
    "### 2.1.2 Funding aquired by the startups"
   ]
  },
  {
   "cell_type": "code",
   "execution_count": null,
   "id": "fdbdb501",
   "metadata": {},
   "outputs": [],
   "source": [
    "#Histogram of total funding aquired by the startups\n",
    "\n",
    "fig=plt.figure()\n",
    "ax = fig.add_subplot(1,1,1)\n",
    "ax.hist(df_org['funding_total_usd'], bins = 5000)\n",
    "ax.set_xlim(left=0, right=200000000);"
   ]
  },
  {
   "cell_type": "code",
   "execution_count": null,
   "id": "dca2b134",
   "metadata": {},
   "outputs": [],
   "source": [
    "#Histogram of total funding aquired by the startups - zoom on the values smaller than 50000000 (50 mln USD)\n",
    "\n",
    "fig=plt.figure()\n",
    "ax = fig.add_subplot(1,1,1)\n",
    "ax.hist(df_org['funding_total_usd'], bins = 10000)\n",
    "ax.set_xlim(left=0, right=50000000);"
   ]
  },
  {
   "cell_type": "code",
   "execution_count": null,
   "id": "4d16c21e",
   "metadata": {},
   "outputs": [],
   "source": [
    "#Histogram of total funding aquired by the startups - zoom on the values smaller than 10000000 (10 mln USD)\n",
    "\n",
    "fig=plt.figure()\n",
    "ax = fig.add_subplot(1,1,1)\n",
    "ax.hist(df_org['funding_total_usd'], bins = 10000)\n",
    "ax.set_xlim(left=0, right=10000000);"
   ]
  },
  {
   "attachments": {},
   "cell_type": "markdown",
   "id": "961720ee",
   "metadata": {},
   "source": [
    "The distribution of the total funding aquired by the start-ups is highly positively skewed, with median 2.08 of million USD much lower than the mean value of 15.73 million USD. A significant 'long tail' can be observed, with startups receiving much more funding than the average - the maximal value of total funding received is equal to 5.7 bn USD. Most of the startups took part in one or two funding rounds."
   ]
  },
  {
   "cell_type": "markdown",
   "id": "52656161",
   "metadata": {},
   "source": [
    "#### Start-ups that aquired the most funding"
   ]
  },
  {
   "cell_type": "code",
   "execution_count": null,
   "id": "ae465d97",
   "metadata": {},
   "outputs": [],
   "source": [
    "#Values of top 10 start-ups\n",
    "top_10_startups = df_org.sort_values(by=['funding_total_usd'],ascending=False).head(10)\n",
    "top_10_startups = top_10_startups.iloc[::-1]\n",
    "\n",
    "#Create the bar plot\n",
    "colors = plt.cm.get_cmap('Reds')(np.linspace(0, 1, len(top_10_startups)))\n",
    "plt.barh(top_10_startups['name'], top_10_startups['funding_total_usd'], color=colors)\n",
    "plt.xlabel('Funding (in billions USD)')\n",
    "plt.ylabel('Startup')\n",
    "plt.title('Top 10 Startups by total funding')\n",
    "plt.show()"
   ]
  },
  {
   "attachments": {},
   "cell_type": "markdown",
   "id": "0ec25317",
   "metadata": {},
   "source": [
    "All the start-ups from the top 10 (in terms of total funding received) had raised funding exceeding 1 bn USD."
   ]
  },
  {
   "cell_type": "markdown",
   "id": "50010098",
   "metadata": {},
   "source": [
    "### 2.1.3 Status of the start-ups"
   ]
  },
  {
   "cell_type": "code",
   "execution_count": null,
   "id": "6eeb92ee",
   "metadata": {},
   "outputs": [],
   "source": [
    "plt.rcParams['figure.figsize'] = 10,10\n",
    "labels = df_org['status'].value_counts().index.tolist()\n",
    "sizes = df_org['status'].value_counts().tolist()\n",
    "explode = (0, 0, 0.2)\n",
    "colors = ['#99ff99','#66b3ff','#ff9999']\n",
    "\n",
    "plt.pie(sizes, explode=explode, labels=labels, colors=colors, autopct='%1.1f%%',\n",
    "        shadow=False, startangle=30)\n",
    "plt.axis('equal')\n",
    "plt.tight_layout()\n",
    "plt.title(\"What is start up companies current status\", fontdict=None, position= [0.48,1], size = 'x-large')\n",
    "plt.show()"
   ]
  },
  {
   "attachments": {},
   "cell_type": "markdown",
   "id": "85cb35ed",
   "metadata": {},
   "source": [
    "It can be noted that the majority of start-ups are still operating (as for 2015), and more companies were acquired than suspended their operations."
   ]
  },
  {
   "cell_type": "markdown",
   "id": "5b08756a",
   "metadata": {},
   "source": [
    "### 2.1.4 The most common markets (industries)"
   ]
  },
  {
   "cell_type": "code",
   "execution_count": null,
   "id": "2cfedfc4",
   "metadata": {},
   "outputs": [],
   "source": [
    "len(df_org['market'].unique())"
   ]
  },
  {
   "cell_type": "code",
   "execution_count": null,
   "id": "4c30000c",
   "metadata": {},
   "outputs": [],
   "source": [
    "#Plot the 15 most common start-up market categories  \n",
    "plt.rcParams['figure.figsize'] = 15,8\n",
    "height = df_org['market'].value_counts()[:15].tolist()\n",
    "bars =  df_org['market'].value_counts()[:15].index.tolist()\n",
    "y_pos = np.arange(len(bars))\n",
    "plt.bar(y_pos, height , width=0.7 ,color= ['c']+['paleturquoise']*14)\n",
    "plt.xticks(y_pos, bars)\n",
    "plt.xticks(rotation=90)\n",
    "plt.title(\"15 most common start-up market categories\", fontdict=None, position= [0.48,1.05], size = 'x-large')\n",
    "plt.show()"
   ]
  },
  {
   "cell_type": "code",
   "execution_count": null,
   "id": "8ea58aeb",
   "metadata": {},
   "outputs": [],
   "source": [
    "df_org['count'] = 1\n",
    "country_market = df_org[['count','country_code','market']].groupby(['country_code','market']).agg({'count': 'sum'})\n",
    "country_market_pct = country_market.groupby(level=0).apply(lambda x: 100 * x / float(x.sum()))\n",
    "country_market_pct.reset_index(inplace = True)"
   ]
  },
  {
   "cell_type": "code",
   "execution_count": null,
   "id": "7cf3eeb0",
   "metadata": {},
   "outputs": [],
   "source": [
    "USA_market_pct = country_market_pct[country_market_pct['country_code'] == \"USA\"]\n",
    "USA_market_pct = USA_market_pct.sort_values('count',ascending = False)[0:10]"
   ]
  },
  {
   "cell_type": "code",
   "execution_count": null,
   "id": "04b96cdf",
   "metadata": {},
   "outputs": [],
   "source": [
    "## Plot the breakdown of start-up market categories in the USA\n",
    "plt.rcParams['figure.figsize'] =10,10\n",
    "labels = list(USA_market_pct['market'])+['Other...']\n",
    "sizes = list(USA_market_pct['count'])+[100-USA_market_pct['count'].sum()]\n",
    "explode = (0.18, 0.12, 0.09,0,0,0,0,0,0,0,0.01)\n",
    "colors =  ['royalblue','mediumaquamarine','moccasin'] +['oldlace']*8\n",
    "\n",
    "plt.pie(sizes, explode = explode, colors = colors ,labels=labels, autopct='%1.1f%%',\n",
    "        shadow=False, startangle=30)\n",
    "plt.axis('equal')\n",
    "plt.tight_layout()\n",
    "plt.title(\"USA start up market\", fontdict=None, position= [0.48,1.1], size = 'x-large')\n",
    "\n",
    "plt.show()\n"
   ]
  },
  {
   "attachments": {},
   "cell_type": "markdown",
   "id": "871ce823",
   "metadata": {},
   "source": [
    "On the charts above, the most common market categories for the global market and the American market were provided. Most of the startups both globally and on the US market were operating on Software, Biotechnology and Mobile markets."
   ]
  },
  {
   "attachments": {},
   "cell_type": "markdown",
   "id": "bc22cc26",
   "metadata": {},
   "source": [
    "#### The most successful start-ups (in terms of total funding raised)"
   ]
  },
  {
   "cell_type": "code",
   "execution_count": null,
   "id": "9975537c",
   "metadata": {},
   "outputs": [],
   "source": [
    "df_top = df_org[df_org['status']=='closed']\n",
    "df_top10_top = df_fail.sort_values(by=['funding_total_usd'], ascending=False).head(10)\n",
    "\n",
    "plt.figure(figsize=(12, 6))\n",
    "sns.barplot(x='name', y='funding_total_usd', data=df_top10_top, palette='rocket')\n",
    "plt.title('10 closed start-ups with the highest total funding', fontsize=16)\n",
    "plt.xlabel('Startup Name', fontsize=14)\n",
    "plt.ylabel('Funding Total (USD)', fontsize=14)\n",
    "plt.xticks(rotation=45, ha='right')\n",
    "plt.show()"
   ]
  },
  {
   "attachments": {},
   "cell_type": "markdown",
   "id": "8343e6c9",
   "metadata": {},
   "source": [
    "A great disproportion between groups of closed start-ups that aquired the most and the least fudning can be observed. The first group did not survive on the market despite the funding exceeding 100 million USD, whilst the second group acquired only a few thousand dollars in total.  "
   ]
  },
  {
   "cell_type": "markdown",
   "id": "72a21430",
   "metadata": {},
   "source": [
    "### 2.1.5 Total start-up funding compared to different benchmarks"
   ]
  },
  {
   "cell_type": "code",
   "execution_count": null,
   "id": "80779ba3",
   "metadata": {},
   "outputs": [],
   "source": [
    "#Extract the total funding of the well-known companies \n",
    "Facebook_total_funding = df_org['funding_total_usd'][df_org['name']==\"Facebook\"].values[0]\n",
    "Uber_total_funding = df_org['funding_total_usd'][df_org['name']==\"Uber\"].values[0]\n",
    "Alibaba_total_funding = df_org['funding_total_usd'][df_org['name']==\"Alibaba\"].values[0]\n",
    "Cloudera_total_funding = df_org['funding_total_usd'][df_org['name']==\"Cloudera\"].values[0]\n",
    "\n",
    "plt.rcParams['figure.figsize'] = 15,6\n",
    "plt.hist(df_org['funding_total_usd'][(df_org['funding_total_usd'] >= 1000000000)].dropna(), bins=50,color = 'lightcyan' )\n",
    "plt.ylabel('Count')\n",
    "plt.xlabel('Funding (usd)')\n",
    "plt.title(\"Where are the well-known companies ? \", fontdict=None, position= [0.48,1.05], size = 'x-large')\n",
    "\n",
    "#Add the values the well-known companies benchmarks\n",
    "plt.axvline(Facebook_total_funding,color='royalblue',linestyle =\"--\")\n",
    "plt.text(Facebook_total_funding+15000000, 2.6,\"Facebook\")\n",
    "\n",
    "plt.axvline(Uber_total_funding,color='black',linestyle =\"--\")\n",
    "plt.text(Uber_total_funding+10000000, 2.2,\"Uber\")\n",
    "\n",
    "plt.axvline(Cloudera_total_funding,color='dodgerblue',linestyle =\"--\")\n",
    "plt.text(Cloudera_total_funding+10000000, 1.9,\"Cloudera\")\n",
    "\n",
    "plt.axvline(Alibaba_total_funding,color='orange',linestyle =\"--\")\n",
    "plt.text(Alibaba_total_funding+10000000, 1.6,\"Alibaba\")\n",
    "\n",
    "\n",
    "plt.show()"
   ]
  },
  {
   "attachments": {},
   "cell_type": "markdown",
   "id": "bc9b82f9",
   "metadata": {},
   "source": [
    "Among the companies that received more than 1 bn USD total funding, the chosen well-known companies are not the leaders.  Facebook which is in the top 5 of companies that received the most funding, and Uber closes the top 10."
   ]
  },
  {
   "cell_type": "code",
   "execution_count": null,
   "id": "34ca7e10",
   "metadata": {},
   "outputs": [],
   "source": [
    "#Change the type of 'founded_at' column\n",
    "df_org['founded_at'] = pd.to_datetime(df_org['founded_at'])"
   ]
  },
  {
   "cell_type": "markdown",
   "id": "266ab506",
   "metadata": {},
   "source": [
    "### 2.1.6 When the companies were founded?"
   ]
  },
  {
   "cell_type": "code",
   "execution_count": null,
   "id": "a5ab27d4",
   "metadata": {},
   "outputs": [],
   "source": [
    "df_org['founded_at'] = pd.to_datetime(df_org['founded_at'], errors = 'coerce' )"
   ]
  },
  {
   "cell_type": "code",
   "execution_count": null,
   "id": "eb0d15f5",
   "metadata": {},
   "outputs": [],
   "source": [
    "plt.rcParams['figure.figsize'] = 15,6\n",
    "df_org['name'].groupby(df_org[\"founded_at\"].dt.year).count().plot(kind=\"line\")\n",
    "\n",
    "plt.ylabel('Count')\n",
    "plt.title(\"Founded distribution \", fontdict=None, position= [0.48,1.05], size = 'x-large')\n",
    "plt.show()"
   ]
  },
  {
   "attachments": {},
   "cell_type": "markdown",
   "id": "21515b5c",
   "metadata": {},
   "source": [
    "Number of star-ups funded was growing till early 2010s, when it reached a peak and drasticly declined. The most companies were founded in 2011 and 2012."
   ]
  },
  {
   "cell_type": "code",
   "execution_count": null,
   "id": "45830bad",
   "metadata": {},
   "outputs": [],
   "source": [
    "\n",
    "market_counts = df_org.groupby([df_org[\"founded_at\"].dt.year, \"market\"])[\"name\"].count().unstack(fill_value=0)\n",
    "top_10_markets = market_counts.sum().nlargest(10).index.tolist()\n",
    "\n",
    "#Additional column will represent categories outside the top 10, market as \"other\n",
    "market_counts[\"Other\"] = market_counts.sum(axis=1) - market_counts[top_10_markets].sum(axis=1)\n",
    "\n",
    "top_10_counts = market_counts[top_10_markets].sum(axis=1)\n",
    "other_counts = market_counts[\"Other\"]\n",
    "\n",
    "# Plot it as a bar chart\n",
    "fig, ax = plt.subplots(figsize=(12, 6))\n",
    "ax.bar(top_10_counts.index, top_10_counts, color=\"green\", label=\"Top 10 Markets\")\n",
    "ax.bar(other_counts.index, other_counts, bottom=top_10_counts, color=\"gray\", label=\"Other Markets\")\n",
    "\n",
    "#Labels and formatting\n",
    "ax.set_xlabel(\"Year\")\n",
    "ax.set_ylabel(\"Number of Funded Startups\")\n",
    "ax.set_title(\"Funded Startups by Market Category and Year\", fontdict={'fontsize': 20, 'fontweight': 'bold', 'verticalalignment': 'baseline'}, loc='center')\n",
    "ax.legend()\n",
    "\n",
    "plt.show()"
   ]
  },
  {
   "attachments": {},
   "cell_type": "markdown",
   "id": "71938ab1",
   "metadata": {},
   "source": [
    "It can be noted that the top 10 markets accound for a vast part of all start-ups count in a given year - in some years around to the half of all companies founded. "
   ]
  },
  {
   "cell_type": "code",
   "execution_count": null,
   "id": "87c1c35d",
   "metadata": {},
   "outputs": [],
   "source": [
    "market_counts = df_org.groupby([df_org[\"founded_at\"].dt.year, \"market\"])[\"name\"].count().unstack(fill_value=0)\n",
    "\n",
    "top_10_markets = market_counts.sum().nlargest(10).index.tolist()\n",
    "\n",
    "for market in top_10_markets:\n",
    "    market_counts[market] = market_counts[market] if market in market_counts.columns else 0\n",
    "market_counts[\"Other\"] = market_counts.sum(axis=1) - market_counts[top_10_markets].sum(axis=1)\n",
    "\n",
    "fig, ax = plt.subplots(figsize=(12, 6))\n",
    "\n",
    "#Separate the top 10 market categories on the plot\n",
    "market_colors = plt.get_cmap('tab10').colors\n",
    "for i, market in enumerate(top_10_markets):\n",
    "    ax.bar(market_counts.index, market_counts[market], bottom=market_counts[top_10_markets[:i]].sum(axis=1), color=market_colors[i], label=market)\n",
    "ax.bar(market_counts.index, market_counts[\"Other\"], bottom=market_counts[top_10_markets].sum(axis=1), color=\"gray\", label=\"Other Markets\")\n",
    "\n",
    "# Labels and formatting\n",
    "ax.set_xlabel(\"Year\")\n",
    "ax.set_ylabel(\"Number of Funded Startups\")\n",
    "\n",
    "ax.set_title(\"Funded Startups by Market Category and Year\", fontdict={'fontsize': 20, 'fontweight': 'bold', 'verticalalignment': 'baseline'}, loc='center')\n",
    "\n",
    "ax.legend()\n",
    "\n",
    "plt.show()\n"
   ]
  },
  {
   "attachments": {},
   "cell_type": "markdown",
   "id": "1ab6e697",
   "metadata": {},
   "source": [
    "By breaking down the top 10 industries, it can be observed that the share of Software and Biotechnology market has been very significant from late 1990's until 2014. From around 2005 till 2014 the number of start-ups founded and oriented on Mobile market has increased dynamicly. "
   ]
  },
  {
   "attachments": {},
   "cell_type": "markdown",
   "id": "aa92075a",
   "metadata": {},
   "source": [
    "#### How many companies were founded yearly given the economic events"
   ]
  },
  {
   "cell_type": "code",
   "execution_count": null,
   "id": "9448af70",
   "metadata": {},
   "outputs": [],
   "source": [
    "plt.rcParams['figure.figsize'] = 15,6\n",
    "df_org['name'].groupby(df_org[\"founded_at\"].dt.year).count().plot(kind=\"line\")\n",
    "\n",
    "plt.ylabel('Count')\n",
    "plt.title(\"Number of companies founded in each year\", fontdict=None, position= [0.48,1.05], size = 'x-large')\n",
    "plt.axvline(2008,color='red')\n",
    "plt.text(2008+0.15, 1600,\"US Housing Crisis \\n(2008)\")\n",
    "plt.axvline(2001,color='red')\n",
    "plt.text(2001+0.15, 2000,\"Dot Com Bubble \\n(2001)\")\n",
    "\n",
    "plt.axvline(2014,color='red')\n",
    "plt.text(2014+0.15, 2000,\"Russo-Ukranian War \\n(2014)\")\n",
    "plt.show()"
   ]
  },
  {
   "attachments": {},
   "cell_type": "markdown",
   "id": "a80c4be5",
   "metadata": {},
   "source": [
    "As can be observed, all of the decline in number of start-ups founded happened at the same time as major global crises."
   ]
  },
  {
   "cell_type": "code",
   "execution_count": null,
   "id": "a9d8945e",
   "metadata": {},
   "outputs": [],
   "source": [
    "Facebook_founded_year = df_org['founded_at'][df_org['name']==\"Facebook\"].dt.year.values[0]\n",
    "Uber_founded_year  = df_org['founded_at'][df_org['name']==\"Uber\"].dt.year.values[0]\n",
    "Alibaba_founded_year  = df_org['founded_at'][df_org['name']==\"Alibaba\"].dt.year.values[0]"
   ]
  },
  {
   "cell_type": "code",
   "execution_count": null,
   "id": "523fb61e",
   "metadata": {},
   "outputs": [],
   "source": [
    "plt.rcParams['figure.figsize'] = 15,6\n",
    "df_org['name'][df_org[\"founded_at\"].dt.year >= 1990].groupby(df_org[\"founded_at\"].dt.year).count().plot(kind=\"line\")\n",
    "plt.ylabel('Count')\n",
    "\n",
    "plt.axvline(Facebook_founded_year,color='royalblue',linestyle =\"--\")\n",
    "plt.text(Facebook_founded_year+0.15, 3000,\"Facebook \\n (2004)\")\n",
    "\n",
    "plt.axvline(Uber_founded_year,color='black',linestyle =\"--\")\n",
    "plt.text(Uber_founded_year+0.15, 3500,\"Uber \\n(2009)\")\n",
    "\n",
    "plt.axvline(Alibaba_founded_year,color='orange',linestyle =\"--\")\n",
    "plt.text(Alibaba_founded_year+0.15, 2000,\"Alibaba \\n(1999)\")\n",
    "\n",
    "\n",
    "plt.title(\"When were the well-known companies founded ?\", fontdict=None, position= [0.48,1.05], size = 'x-large')\n",
    "plt.show()"
   ]
  },
  {
   "attachments": {},
   "cell_type": "markdown",
   "id": "378ed7a1",
   "metadata": {},
   "source": [
    "### 2.1.7 Analysis of funding distribution grouped on yearly basis"
   ]
  },
  {
   "cell_type": "code",
   "execution_count": null,
   "id": "e2ca7270",
   "metadata": {},
   "outputs": [],
   "source": [
    "df_org.groupby(df_org[\"founded_at\"].dt.year)[\"funding_total_usd\"].sum()"
   ]
  },
  {
   "cell_type": "code",
   "execution_count": null,
   "id": "e9ede6b9",
   "metadata": {},
   "outputs": [],
   "source": [
    "#Group by year\n",
    "funding_by_year = df_org.groupby(df_org[\"founded_at\"].dt.year)[\"funding_total_usd\"].sum()\n",
    "count_by_year = df_org.groupby(df_org[\"founded_at\"].dt.year)[\"name\"].count()\n",
    "fig, ax1 = plt.subplots(figsize=(15,6))\n",
    "ax2 = ax1.twinx()\n",
    "\n",
    "#Create a bar chart \n",
    "ax1.bar(funding_by_year.index, funding_by_year.values, color='royalblue', alpha=0.8)\n",
    "\n",
    "#Labels and formatting\n",
    "ax1.set_ylabel('Total Funding Amount (USD)')\n",
    "ax2.plot(count_by_year.index, count_by_year.values, color='orange', alpha=0.8)\n",
    "ax2.set_ylabel('Count of Startups Funded')\n",
    "ax1.set_title('Total Funding Amount and Count of Startups Funded by Year')\n",
    "ax1.set_xlabel('Year')\n",
    "ax1.legend(['Total Funding Amount (USD)'], loc='upper left', bbox_to_anchor=(0, 1))\n",
    "ax2.legend(['Count of Startups Funded'], loc='upper left', bbox_to_anchor=(0, 0.93))\n",
    "plt.show()"
   ]
  },
  {
   "attachments": {},
   "cell_type": "markdown",
   "id": "5b89a942",
   "metadata": {},
   "source": [
    "It can be observed that the increase and decrease trends in the total amount of funding and count of start-ups go hand-in-hand. However, there seems to be a slight lagging in which the increase in total funding, is followed by an increase in the count a couple of years later. For example, the total funding reached its peak in 2007 whereas the count reached its peak in 2012."
   ]
  },
  {
   "cell_type": "code",
   "execution_count": null,
   "id": "81d72230",
   "metadata": {},
   "outputs": [],
   "source": [
    "top_markets = df_org.groupby('market')['funding_total_usd'].sum().nlargest(5).index.tolist()\n",
    "df_funding_by_year = df_org.groupby([df_org['founded_at'].dt.year, 'market'])['funding_total_usd'].sum().reset_index()\n",
    "df_funding_by_year.loc[~df_funding_by_year['market'].isin(top_markets), 'market'] = 'Other'\n",
    "df_funding_by_year = df_funding_by_year.groupby(['founded_at', 'market'])['funding_total_usd'].sum().unstack()\n",
    "fig, ax = plt.subplots(figsize=(15,6))\n",
    "\n",
    "# Plot it\n",
    "df_funding_by_year.plot(kind='bar', stacked=True, ax=ax, alpha=0.8)\n",
    "ax.set_ylabel('Total Funding Amount (USD)')\n",
    "\n",
    "# Labels and formatiing\n",
    "ax.set_title('Total Funding Amount by Year and Market Category')\n",
    "ax.legend()\n",
    "plt.show()\n"
   ]
  },
  {
   "cell_type": "code",
   "execution_count": null,
   "id": "cf1f999e",
   "metadata": {},
   "outputs": [],
   "source": [
    "# Top invested categories, can be compared with the graph above including the total number of startups\n",
    "df_org.groupby('market').sum()['funding_total_usd'].sort_values(ascending=False).head()"
   ]
  },
  {
   "attachments": {},
   "cell_type": "markdown",
   "id": "32c3d264",
   "metadata": {},
   "source": [
    "### Funding by country analyses"
   ]
  },
  {
   "cell_type": "code",
   "execution_count": null,
   "id": "0cd28428",
   "metadata": {},
   "outputs": [],
   "source": [
    "#Country\n",
    "plt.figure(figsize=(20,5))\n",
    "sns.countplot(x ='country_code', data = df_org, order=df_org['country_code'].value_counts().iloc[:8].index)\n",
    "plt.xticks(rotation=45)\n",
    "plt.show()"
   ]
  },
  {
   "cell_type": "code",
   "execution_count": null,
   "id": "275f528d",
   "metadata": {},
   "outputs": [],
   "source": [
    "plt.figure(figsize=(20,5))\n",
    "g = sns.countplot(x ='state_code', data = df_org[(df_org['country_code'] =='USA')], order=df_org['state_code'].value_counts().iloc[:9].index)\n",
    "plt.xticks(rotation=45)\n",
    "plt.show()"
   ]
  },
  {
   "attachments": {},
   "cell_type": "markdown",
   "id": "985c1fa5",
   "metadata": {},
   "source": [
    "The US is the country in which most start-ups are founded. California leads by a great margin compared to the other states in the US.    "
   ]
  },
  {
   "cell_type": "markdown",
   "id": "8c7a01f9",
   "metadata": {},
   "source": [
    "## 2.2 Rounds"
   ]
  },
  {
   "cell_type": "code",
   "execution_count": null,
   "id": "37df322e",
   "metadata": {},
   "outputs": [],
   "source": [
    "df_rd.head(10)"
   ]
  },
  {
   "cell_type": "markdown",
   "id": "d8d7926f",
   "metadata": {},
   "source": [
    "### 2.2.1 Descriptive statistics"
   ]
  },
  {
   "cell_type": "markdown",
   "id": "82bffd4b",
   "metadata": {},
   "source": [
    "Compared to the organisations data frame, the variable 'raised_amount_usd' has got lower mean. The observation count is higher by around 2.5 times compared to organisations data frame. The standard devation is around 25% higher than for the organisations data frame. The median is slighly lower, while the maximal value is around 2 times higher."
   ]
  },
  {
   "cell_type": "code",
   "execution_count": null,
   "id": "ebf59d19",
   "metadata": {},
   "outputs": [],
   "source": [
    "df_rd.describe()"
   ]
  },
  {
   "cell_type": "markdown",
   "id": "f5b05aec",
   "metadata": {},
   "source": [
    "### 2.2.2 Funding aquired by the startups"
   ]
  },
  {
   "attachments": {},
   "cell_type": "markdown",
   "id": "db7bd428",
   "metadata": {},
   "source": [
    "The distribution of funding raised in a given round is a bit more skewed than the distribution of the toal funding, but the pattern is similar -  similar to a negative exponential distribution."
   ]
  },
  {
   "cell_type": "code",
   "execution_count": null,
   "id": "28090121",
   "metadata": {},
   "outputs": [],
   "source": [
    "#Similar histogram as for organisations\n",
    "\n",
    "fig=plt.figure()\n",
    "ax = fig.add_subplot(1,1,1)\n",
    "ax.hist(df_rd['raised_amount_usd'], bins = 5000)\n",
    "ax.set_xlim(left=0, right=200000000);"
   ]
  },
  {
   "cell_type": "code",
   "execution_count": null,
   "id": "a07b2f78",
   "metadata": {},
   "outputs": [],
   "source": [
    "#Histogram of total funding aquired by the startups - zoom on the values smaller than 50000000 (50 mln USD)\n",
    "\n",
    "fig=plt.figure()\n",
    "ax = fig.add_subplot(1,1,1)\n",
    "ax.hist(df_rd['raised_amount_usd'], bins = 10000)\n",
    "ax.set_xlim(left=0, right=50000000);"
   ]
  },
  {
   "cell_type": "markdown",
   "id": "6715885c",
   "metadata": {},
   "source": [
    "#### Start-ups that aquired the most funding"
   ]
  },
  {
   "cell_type": "markdown",
   "id": "bbef7c1a",
   "metadata": {},
   "source": [
    "Verizon Communications, Sberbank and Chaler Communications received the most "
   ]
  },
  {
   "cell_type": "code",
   "execution_count": null,
   "id": "d541e48c",
   "metadata": {},
   "outputs": [],
   "source": [
    "# sort the data \n",
    "top = df_rd.sort_values(by=['raised_amount_usd'],ascending=False).head(20)\n",
    "\n",
    "# Bar plot - horizontal\n",
    "plt.barh(top['company_name'], top['raised_amount_usd'], color='grey')\n",
    "plt.xlabel('Funding (USD)')\n",
    "plt.ylabel('Startup')\n",
    "plt.title('Top 20 Startups by Funding')\n",
    "plt.show()"
   ]
  },
  {
   "cell_type": "markdown",
   "id": "e4149e5f",
   "metadata": {},
   "source": [
    "### 2.2.3 The most common markets (industries)"
   ]
  },
  {
   "cell_type": "code",
   "execution_count": null,
   "id": "ba6a7828",
   "metadata": {},
   "outputs": [],
   "source": [
    "len(df_rd['company_market'].unique())"
   ]
  },
  {
   "cell_type": "code",
   "execution_count": null,
   "id": "dd937a91",
   "metadata": {},
   "outputs": [],
   "source": [
    "plt.rcParams['figure.figsize'] = 15,8\n",
    "\n",
    "height = df_rd['company_market'].value_counts()[:15].tolist()\n",
    "bars =  df_rd['company_market'].value_counts()[:15].index.tolist()\n",
    "y_pos = np.arange(len(bars))\n",
    "plt.bar(y_pos, height , width=0.7 ,color= ['c']+['paleturquoise']*14)\n",
    "plt.xticks(y_pos, bars)\n",
    "plt.xticks(rotation=90)\n",
    "plt.title(\"Top 15 Start-Up market category\", fontdict=None, position= [0.48,1.05], size = 'x-large')\n",
    "plt.show()"
   ]
  },
  {
   "cell_type": "markdown",
   "id": "3c7c1e20",
   "metadata": {},
   "source": [
    "Compared to the total funding aquired, the biotechnology has got more funding than software. There are also other differences in the top categories. The values for each category are higher than in case of the organisation data frame."
   ]
  },
  {
   "cell_type": "code",
   "execution_count": null,
   "id": "ac78c0af",
   "metadata": {},
   "outputs": [],
   "source": [
    "df_rd['count'] = 1\n",
    "country_market = df_rd[['count','company_country_code','company_market']].groupby(['company_country_code','company_market']).agg({'count': 'sum'})\n",
    "# Change: groupby state_office and divide by sum\n",
    "country_market_pct = country_market.groupby(level=0).apply(lambda x: 100 * x / float(x.sum()))\n",
    "country_market_pct.reset_index(inplace = True)"
   ]
  },
  {
   "cell_type": "code",
   "execution_count": null,
   "id": "e33697c5",
   "metadata": {},
   "outputs": [],
   "source": [
    "USA_market_pct = country_market_pct[country_market_pct['company_country_code'] == \"USA\"]\n",
    "USA_market_pct = USA_market_pct.sort_values('count',ascending = False)[0:10]"
   ]
  },
  {
   "cell_type": "code",
   "execution_count": null,
   "id": "72c07dc2",
   "metadata": {},
   "outputs": [],
   "source": [
    "## USA\n",
    "plt.rcParams['figure.figsize'] =10,10\n",
    "labels = list(USA_market_pct['company_market'])+['Other...']\n",
    "sizes = list(USA_market_pct['count'])+[100-USA_market_pct['count'].sum()]\n",
    "explode = (0.18, 0.12, 0.09,0,0,0,0,0,0,0,0.01)\n",
    "colors =  ['royalblue','mediumaquamarine','moccasin'] +['oldlace']*8\n",
    "\n",
    "plt.pie(sizes, explode = explode, colors = colors ,labels=labels, autopct='%1.1f%%',\n",
    "        shadow=False, startangle=30)\n",
    "plt.axis('equal')\n",
    "plt.tight_layout()\n",
    "plt.title(\"USA start up market\", fontdict=None, position= [0.48,1.1], size = 'x-large')\n",
    "\n",
    "plt.show()\n"
   ]
  },
  {
   "attachments": {},
   "cell_type": "markdown",
   "id": "094ac49a",
   "metadata": {},
   "source": [
    "The breakdown of funding on the American market leads to similar conclusions as the previous chart, presenting the worldwide breakdown of funding. Compared to the part 2.1, the biotechnology has got a higher share than software, the organisations' data inidcated the opposite. Also Health Care is on 3rd place, whilst it was on 6th position at the respective chart made on basis of the organisations data.    "
   ]
  },
  {
   "cell_type": "markdown",
   "id": "48b7d497",
   "metadata": {},
   "source": [
    "### 2.2.4 Number of rounds by year and funding"
   ]
  },
  {
   "cell_type": "code",
   "execution_count": null,
   "id": "8d979338",
   "metadata": {},
   "outputs": [],
   "source": [
    "\n",
    "market_counts = df_rd.groupby([df_rd[\"funded_year\"], \"company_market\"])[\"company_name\"].count().unstack(fill_value=0)\n",
    "top_10_markets = market_counts.sum().nlargest(10).index.tolist()\n",
    "\n",
    "for market in top_10_markets:\n",
    "    market_counts[market] = market_counts[market] if market in market_counts.columns else 0\n",
    "market_counts[\"Other\"] = market_counts.sum(axis=1) - market_counts[top_10_markets].sum(axis=1)\n",
    "\n",
    "fig, ax = plt.subplots(figsize=(12, 6))\n",
    "\n",
    "market_colors = plt.get_cmap('tab10').colors\n",
    "for i, market in enumerate(top_10_markets):\n",
    "    ax.bar(market_counts.index, market_counts[market], bottom=market_counts[top_10_markets[:i]].sum(axis=1), color=market_colors[i], label=market)\n",
    "ax.bar(market_counts.index, market_counts[\"Other\"], bottom=market_counts[top_10_markets].sum(axis=1), color=\"gray\", label=\"Other Markets\")\n",
    "\n",
    "\n",
    "ax.set_xlabel(\"Year\")\n",
    "ax.set_ylabel(\"Number of Funded Startups\")\n",
    "\n",
    "ax.set_title(\"Funded Startups by Market Category and Year\", fontdict={'fontsize': 20, 'fontweight': 'bold', 'verticalalignment': 'baseline'}, loc='center')\n",
    "ax.set_xlim(left=1990)\n",
    "ax.set_xlim(right=2015)\n",
    "\n",
    "ax.legend()\n",
    "\n",
    "plt.show()\n"
   ]
  },
  {
   "attachments": {},
   "cell_type": "markdown",
   "id": "6fc1e3b4",
   "metadata": {},
   "source": [
    "Similar to the part 2.1, the Biotechnology, Software and Mobile are the main start-up markets. "
   ]
  },
  {
   "cell_type": "code",
   "execution_count": null,
   "id": "94732c37",
   "metadata": {},
   "outputs": [],
   "source": [
    "df_rd.groupby('company_market').sum()['raised_amount_usd'].sort_values(ascending=False).head()"
   ]
  },
  {
   "attachments": {},
   "cell_type": "markdown",
   "id": "8dfdd02e",
   "metadata": {},
   "source": [
    "### 2.2.5 Country Analyses"
   ]
  },
  {
   "cell_type": "code",
   "execution_count": null,
   "id": "f394c0de",
   "metadata": {},
   "outputs": [],
   "source": [
    "#Country\n",
    "plt.figure(figsize=(20,5))\n",
    "sns.countplot(x ='company_country_code', data = df_rd, order=df_rd['company_country_code'].value_counts().iloc[:8].index)\n",
    "plt.xticks(rotation=45)\n",
    "plt.show()\n"
   ]
  },
  {
   "cell_type": "code",
   "execution_count": null,
   "id": "2d581a71",
   "metadata": {},
   "outputs": [],
   "source": [
    "plt.figure(figsize=(20,5))\n",
    "g = sns.countplot(x ='company_state_code', data = df_rd[(df_rd['company_country_code'] =='USA')], order=df_rd['company_state_code'].value_counts().iloc[:9].index)\n",
    "plt.xticks(rotation=45)\n",
    "plt.show()\n"
   ]
  },
  {
   "attachments": {},
   "cell_type": "markdown",
   "id": "ff4112ed",
   "metadata": {},
   "source": [
    "Similar to part 2.1, the US is the country in which most start-ups are founded. California leads by a great margin compared to the other states in the US.    "
   ]
  },
  {
   "attachments": {},
   "cell_type": "markdown",
   "id": "c4452842",
   "metadata": {},
   "source": [
    "### 2.2.6 Funds raised depending on the round code and type"
   ]
  },
  {
   "cell_type": "code",
   "execution_count": null,
   "id": "3773e20b",
   "metadata": {},
   "outputs": [],
   "source": [
    "sns.boxplot(x='funding_round_code', y='raised_amount_usd', data=df_rd)\n",
    "\n",
    "plt.xlabel('Funding Round Code')\n",
    "plt.ylabel('Raised Amount (USD)')\n",
    "plt.title('Distribution of Raised Amount by Funding Round Code')\n",
    "plt.show()"
   ]
  },
  {
   "cell_type": "code",
   "execution_count": null,
   "id": "0f9311e0",
   "metadata": {},
   "outputs": [],
   "source": [
    "#Group the data\n",
    "grouped = df_rd.groupby('funding_round_code')['raised_amount_usd'].mean().reset_index()\n",
    "\n",
    "##Create the plot\n",
    "colors = plt.cm.Reds(np.linspace(0, 1, len(grouped)))\n",
    "plt.bar(grouped['funding_round_code'], grouped['raised_amount_usd'], color=colors)\n",
    "\n",
    "# Labels and formatting\n",
    "plt.xlabel('Funding Round Code')\n",
    "plt.ylabel('Mean Raised Amount (USD)')\n",
    "plt.title('Mean Raised Amount by Funding Round Code')\n",
    "plt.show()"
   ]
  },
  {
   "attachments": {},
   "cell_type": "markdown",
   "id": "ecf78b3f",
   "metadata": {},
   "source": [
    "The mean raised amount has grown exponentially from round A to round H."
   ]
  },
  {
   "attachments": {},
   "cell_type": "markdown",
   "id": "41841c3b",
   "metadata": {},
   "source": [
    "#### Funding round types"
   ]
  },
  {
   "cell_type": "code",
   "execution_count": null,
   "id": "1feff259",
   "metadata": {},
   "outputs": [],
   "source": [
    "#Group the data\n",
    "grouped = df_rd.groupby('funding_round_type')['raised_amount_usd'].mean().reset_index()\n",
    "\n",
    "# Create the plot\n",
    "colors = plt.cm.Reds(np.linspace(0, 1, len(grouped)))\n",
    "fig = plt.figure(figsize=(30, 10)) \n",
    "ax = fig.add_subplot(111)\n",
    "ax.bar(grouped['funding_round_type'], grouped['raised_amount_usd'], color=colors)\n",
    "\n",
    "# Formatring and labels\n",
    "ax.set_xlabel('Funding Round Type')\n",
    "ax.set_ylabel('Mean Raised Amount (USD)')\n",
    "ax.set_title('Mean Raised Amount by Funding Round Type')\n",
    "plt.show()"
   ]
  },
  {
   "attachments": {},
   "cell_type": "markdown",
   "id": "94adbeeb",
   "metadata": {},
   "source": [
    "In rounds that were classified as the following types:\n",
    "\t\n",
    "Post IPO Debt\n",
    "\n",
    "Secondary Market\n",
    "\n",
    "Post IPO Equity\n",
    "\n",
    "Private Equity\n",
    "\n",
    "the mean raised amount was substantially higher than among other types."
   ]
  },
  {
   "cell_type": "markdown",
   "id": "e7f0b685",
   "metadata": {},
   "source": [
    "## 2.3 Investments"
   ]
  },
  {
   "cell_type": "code",
   "execution_count": null,
   "id": "f5ca9631",
   "metadata": {},
   "outputs": [],
   "source": [
    "df_inv.head(10)"
   ]
  },
  {
   "cell_type": "markdown",
   "id": "1797a053",
   "metadata": {},
   "source": [
    "### 2.3.1 Descriptive statistics"
   ]
  },
  {
   "cell_type": "code",
   "execution_count": null,
   "id": "ecbb9fac",
   "metadata": {},
   "outputs": [],
   "source": [
    "df_inv.describe()"
   ]
  },
  {
   "cell_type": "markdown",
   "id": "1efebe43",
   "metadata": {},
   "source": [
    "### 2.3.2 Funding aquired by the startups"
   ]
  },
  {
   "cell_type": "code",
   "execution_count": null,
   "id": "70a6960a",
   "metadata": {},
   "outputs": [],
   "source": [
    "#Histogram of total funding aquired by the startups - zoom on the values smaller than 50000000 (50 mln USD)\n",
    "\n",
    "fig=plt.figure()\n",
    "ax = fig.add_subplot(1,1,1)\n",
    "ax.hist(df_inv['raised_amount_usd'], bins = 10000)\n",
    "ax.set_xlim(left=0, right=50000000);"
   ]
  },
  {
   "cell_type": "markdown",
   "id": "4417938a",
   "metadata": {},
   "source": [
    "The distribution of the investments is similar to the distributions presented in parts 2.1 and 2.2. A slighly higher number of relatevely big investments can be observed. "
   ]
  },
  {
   "cell_type": "markdown",
   "id": "a1a77964",
   "metadata": {},
   "source": [
    "### 2.3.3 Investments over time and by market category"
   ]
  },
  {
   "cell_type": "code",
   "execution_count": null,
   "id": "719742dc",
   "metadata": {},
   "outputs": [],
   "source": [
    "df_inv_1990 = df_inv[df_inv[\"funded_at\"].dt.year >= 1990]\n",
    "market_counts = df_inv_1990.groupby([df_inv_1990[\"funded_at\"].dt.year, \"company_market\"])[\"company_name\"].count().unstack(fill_value=0)\n",
    "top_5_markets = market_counts.sum().nlargest(10).index.tolist()\n",
    "market_counts[\"Other\"] = market_counts.sum(axis=1) - market_counts[top_5_markets].sum(axis=1)\n",
    "top_5_counts = market_counts[top_5_markets].sum(axis=1)\n",
    "other_counts = market_counts[\"Other\"]\n",
    "\n",
    "# Create the plot\n",
    "fig, ax = plt.subplots(figsize=(12, 6))\n",
    "ax.bar(top_5_counts.index, top_5_counts, color=\"green\", label=\"Top 10 Markets\")\n",
    "ax.bar(other_counts.index, other_counts, bottom=top_5_counts, color=\"gray\", label=\"Other Markets\")\n",
    "ax.set_xlabel(\"Year\")\n",
    "ax.set_ylabel(\"Number of Funded Startups\")\n",
    "ax.set_title(\"Investments in Startups (Starting from 1990)\", fontdict={'fontsize': 20, 'fontweight': 'bold', 'verticalalignment': 'baseline'}, loc='center')\n",
    "ax.legend()\n",
    "plt.show()"
   ]
  },
  {
   "attachments": {},
   "cell_type": "markdown",
   "id": "59467c50",
   "metadata": {},
   "source": [
    "The trend corresponds to the observations made in the previous part dedicated to the funding rounds. After 2004 the number of investments has increased dynamically."
   ]
  },
  {
   "cell_type": "markdown",
   "id": "487727ca",
   "metadata": {},
   "source": [
    "#### Different market categories"
   ]
  },
  {
   "cell_type": "code",
   "execution_count": null,
   "id": "82db0533",
   "metadata": {},
   "outputs": [],
   "source": [
    "plt.rcParams['figure.figsize'] = 15,8\n",
    "\n",
    "height = df_inv['company_market'].value_counts()[:15].tolist()\n",
    "bars =  df_inv['company_market'].value_counts()[:15].index.tolist()\n",
    "y_pos = np.arange(len(bars))\n",
    "plt.bar(y_pos, height , width=0.7 ,color= ['c']+['paleturquoise']*14)\n",
    "plt.xticks(y_pos, bars)\n",
    "plt.xticks(rotation=90)\n",
    "plt.title(\"Top 15 Start-Up investments market \", fontdict=None, position= [0.48,1.05], size = 'x-large')\n",
    "plt.show()"
   ]
  },
  {
   "attachments": {},
   "cell_type": "markdown",
   "id": "f51ca3c5",
   "metadata": {},
   "source": [
    "The top markets for investments are Software, Biotechnology and Mobile, as in the previous sections. "
   ]
  },
  {
   "cell_type": "markdown",
   "id": "651aa6aa",
   "metadata": {},
   "source": [
    "### 2.3.4 Investments by country"
   ]
  },
  {
   "cell_type": "code",
   "execution_count": null,
   "id": "459be671",
   "metadata": {},
   "outputs": [],
   "source": [
    "#Country\n",
    "plt.figure(figsize=(20,5))\n",
    "sns.countplot(x ='company_country_code', data = df_inv, order=df_inv['company_country_code'].value_counts().iloc[:8].index)\n",
    "plt.xticks(rotation=45)\n",
    "plt.show()"
   ]
  },
  {
   "cell_type": "code",
   "execution_count": null,
   "id": "c3936cf4",
   "metadata": {},
   "outputs": [],
   "source": [
    "plt.figure(figsize=(20,5))\n",
    "g = sns.countplot(x ='company_state_code', data = df_inv[(df_inv['company_country_code'] =='USA')], order=df_org['state_code'].value_counts().iloc[:9].index)\n",
    "plt.xticks(rotation=45)\n",
    "plt.show()"
   ]
  },
  {
   "attachments": {},
   "cell_type": "markdown",
   "id": "3f534b31",
   "metadata": {},
   "source": [
    "Similar to parts 2.1 and 2.2, the US is the country in which most start-ups are founded. California leads by a great margin compared to the other states in the US.  "
   ]
  },
  {
   "cell_type": "markdown",
   "id": "5e5a39f5",
   "metadata": {},
   "source": [
    "## 2.4 Acquisitions"
   ]
  },
  {
   "cell_type": "code",
   "execution_count": null,
   "id": "ae8c8515",
   "metadata": {},
   "outputs": [],
   "source": [
    "df_aq.head(10)"
   ]
  },
  {
   "cell_type": "markdown",
   "id": "94102805",
   "metadata": {},
   "source": [
    "### 2.4.1 Descriptive statistics"
   ]
  },
  {
   "cell_type": "code",
   "execution_count": null,
   "id": "908b9b06",
   "metadata": {},
   "outputs": [],
   "source": [
    "df_aq.describe()"
   ]
  },
  {
   "cell_type": "markdown",
   "id": "c6603eee",
   "metadata": {},
   "source": [
    "### 2.4.2 Funding aquired by the startups"
   ]
  },
  {
   "cell_type": "code",
   "execution_count": null,
   "id": "9a268eb1",
   "metadata": {},
   "outputs": [],
   "source": [
    "#Runs long! - 60s\n",
    "#Histogram of total funding aquired by the startups - zoom on the values smaller than 50000000 (50 mln USD)\n",
    "\n",
    "fig=plt.figure()\n",
    "ax = fig.add_subplot(1,1,1)\n",
    "ax.hist(df_aq['price_amount'], bins = 20000)\n",
    "ax.set_xlim(left=0, right=50000000);"
   ]
  },
  {
   "cell_type": "markdown",
   "id": "c4fa6827",
   "metadata": {},
   "source": [
    "### 2.4.3 Aquisitions over time and by market"
   ]
  },
  {
   "cell_type": "markdown",
   "id": "0b2a2d8b",
   "metadata": {},
   "source": [
    "Companies that were aquired, 5 top industries highlighted"
   ]
  },
  {
   "cell_type": "code",
   "execution_count": null,
   "id": "018d9448",
   "metadata": {},
   "outputs": [],
   "source": [
    "market_counts = df_aq.groupby([df_aq[\"acquired_at\"].dt.year, \"company_market\"])[\"company_name\"].count().unstack(fill_value=0)\n",
    "\n",
    "top_10_markets = market_counts.sum().nlargest(5).index.tolist()\n",
    "\n",
    "for market in top_10_markets:\n",
    "    market_counts[market] = market_counts[market] if market in market_counts.columns else 0\n",
    "market_counts[\"Other\"] = market_counts.sum(axis=1) - market_counts[top_10_markets].sum(axis=1)\n",
    "\n",
    "fig, ax = plt.subplots(figsize=(12, 6))\n",
    "\n",
    "market_colors = plt.get_cmap('tab10').colors\n",
    "for i, market in enumerate(top_10_markets):\n",
    "    ax.bar(market_counts.index, market_counts[market], bottom=market_counts[top_10_markets[:i]].sum(axis=1), color=market_colors[i], label=market)\n",
    "ax.bar(market_counts.index, market_counts[\"Other\"], bottom=market_counts[top_10_markets].sum(axis=1), color=\"gray\", label=\"Other Markets\")\n",
    "\n",
    "ax.set_xlim(left=1990, right=2015)\n",
    "\n",
    "ax.set_xlabel(\"Year\")\n",
    "ax.set_ylabel(\"Number of Funded Startups\")\n",
    "\n",
    "ax.set_title(\"Acquired startups by Market Category and Year\", fontdict={'fontsize': 20, 'fontweight': 'bold', 'verticalalignment': 'baseline'}, loc='center')\n",
    "\n",
    "ax.legend()\n",
    "\n",
    "plt.show()\n",
    "\n"
   ]
  },
  {
   "attachments": {},
   "cell_type": "markdown",
   "id": "395616c1",
   "metadata": {},
   "source": [
    "Similar trends to previous sections can be observed - most acquired companies are from Software market, and the top 5 market consitutes a great part of all of the acquisitions."
   ]
  },
  {
   "cell_type": "code",
   "execution_count": null,
   "id": "5b1372e8",
   "metadata": {},
   "outputs": [],
   "source": [
    "plt.rcParams['figure.figsize'] = 15,8\n",
    "\n",
    "height = df_aq['acquirer_market'].value_counts()[:15].tolist()\n",
    "bars =  df_aq['acquirer_market'].value_counts()[:15].index.tolist()\n",
    "y_pos = np.arange(len(bars))\n",
    "plt.bar(y_pos, height , width=0.7 ,color= ['c']+['paleturquoise']*14)\n",
    "plt.xticks(y_pos, bars)\n",
    "plt.xticks(rotation=90)\n",
    "plt.title(\"Top 15 Start-Up market category\", fontdict=None, position= [0.48,1.05], size = 'x-large')\n",
    "plt.show()"
   ]
  },
  {
   "attachments": {},
   "cell_type": "markdown",
   "id": "4edba114",
   "metadata": {},
   "source": [
    "Altough the trends observed on the graph above are similar to the previous sections, what is worth noting is that software companies are acquired significantly more often than others."
   ]
  },
  {
   "attachments": {},
   "cell_type": "markdown",
   "id": "7165c222",
   "metadata": {},
   "source": [
    "### 2.4.4 Acquisitions in different countries"
   ]
  },
  {
   "cell_type": "code",
   "execution_count": null,
   "id": "8fb001e0",
   "metadata": {},
   "outputs": [],
   "source": [
    "#Country\n",
    "plt.figure(figsize=(20,5))\n",
    "sns.countplot(x ='acquirer_country_code', data = df_aq, order=df_aq['acquirer_country_code'].value_counts().iloc[:8].index)\n",
    "plt.xticks(rotation=45)\n",
    "plt.show()"
   ]
  },
  {
   "cell_type": "code",
   "execution_count": null,
   "id": "e59dc4c4",
   "metadata": {},
   "outputs": [],
   "source": [
    "plt.figure(figsize=(20,5))\n",
    "g = sns.countplot(x ='acquirer_state_code', data = df_aq[(df_aq['acquirer_country_code'] =='USA')], order=df_org['state_code'].value_counts().iloc[:9].index)\n",
    "plt.xticks(rotation=45)\n",
    "plt.show()"
   ]
  },
  {
   "attachments": {},
   "cell_type": "markdown",
   "id": "5e7a4cc4",
   "metadata": {},
   "source": [
    "Similar to parts 2.1 and 2.2, the US is the country in which most start-ups are founded. California leads by a great margin compared to the other states in the US."
   ]
  },
  {
   "cell_type": "markdown",
   "id": "524493d0",
   "metadata": {},
   "source": [
    "### 2.4.5 Aquisitions over quarters"
   ]
  },
  {
   "cell_type": "code",
   "execution_count": null,
   "id": "fe9719e0",
   "metadata": {},
   "outputs": [],
   "source": [
    "df_aq['acquired_quarter'] = df_aq['acquired_quarter'].astype(str)\n",
    "\n",
    "plt.scatter(df_aq['acquired_quarter'], df_aq['price_amount'])\n",
    "plt.xlabel('Acquired Quarter')\n",
    "plt.ylabel('Price Amount')\n",
    "plt.title('Price Amount vs Acquired Quarter')\n",
    "plt.show()"
   ]
  },
  {
   "cell_type": "code",
   "execution_count": null,
   "id": "5d9d7042",
   "metadata": {},
   "outputs": [],
   "source": [
    "sns.boxplot(x='acquired_quarter', y=\"price_amount\", data=df_aq)\n",
    "plt.xlabel('target price')\n",
    "plt.title(\"target boxplot\")\n",
    "\n"
   ]
  },
  {
   "cell_type": "code",
   "execution_count": null,
   "id": "414bef69",
   "metadata": {},
   "outputs": [],
   "source": [
    "df_aq.groupby(df_aq[\"acquired_quarter\"])[\"price_amount\"].mean()"
   ]
  },
  {
   "attachments": {},
   "cell_type": "markdown",
   "id": "11688f8c",
   "metadata": {},
   "source": [
    "As seen above, the transaction prices are quite similar in case of quarters 2-4, but in the first quarter the mean acquistion price is much higher."
   ]
  },
  {
   "cell_type": "code",
   "execution_count": null,
   "id": "9b725a2d",
   "metadata": {},
   "outputs": [],
   "source": [
    "df_aq.groupby(df_aq[\"acquired_month\"])[\"price_amount\"].mean()"
   ]
  },
  {
   "cell_type": "code",
   "execution_count": null,
   "id": "130b4c2e",
   "metadata": {},
   "outputs": [],
   "source": [
    "month_order = [\"01\", \"02\", \"03\", \"04\", \"05\", \"06\", \"07\", \"08\", \"09\", \"10\", \"11\", \"12\"]\n",
    "sns.boxplot(x='acquired_month', y=\"price_amount\", data=df_aq, order=month_order)\n",
    "plt.xlabel('target price')\n",
    "plt.title(\"target boxplot\")\n",
    "plt.show()"
   ]
  },
  {
   "attachments": {},
   "cell_type": "markdown",
   "id": "6e6169e0",
   "metadata": {},
   "source": [
    "# 3. Exploratory Data Analysis - Merged Data Set (df_full)"
   ]
  },
  {
   "attachments": {},
   "cell_type": "markdown",
   "id": "024dcf09",
   "metadata": {},
   "source": [
    "In the previous section, the four data sets were analyzed individually. After that, the EDA on merged data was conducted (following the code below). Due to the problematic interpreatation of the merged data set (one company can be present in many rows) it was decided that this part is of less importance and should be regarded as an additional material.\n",
    "\n",
    "So, the following section is quite similar to section 2 in regards to the data exploration. No significant differences important for understanding the data set and future feature engineering were noticed."
   ]
  },
  {
   "cell_type": "code",
   "execution_count": null,
   "id": "535aa890",
   "metadata": {},
   "outputs": [],
   "source": [
    "#Take a look at the data:\n",
    "df_full.info()"
   ]
  },
  {
   "cell_type": "code",
   "execution_count": null,
   "id": "0715ee77",
   "metadata": {},
   "outputs": [],
   "source": [
    "df_full.head()"
   ]
  },
  {
   "cell_type": "code",
   "execution_count": null,
   "id": "3703604a",
   "metadata": {},
   "outputs": [],
   "source": [
    "df_full.shape"
   ]
  },
  {
   "cell_type": "code",
   "execution_count": null,
   "id": "fc8a7fce",
   "metadata": {},
   "outputs": [],
   "source": [
    "#Total number of startups\n",
    "len(df_full['name'].unique())"
   ]
  },
  {
   "cell_type": "markdown",
   "id": "c9c4fd67",
   "metadata": {},
   "source": [
    "#### Change the data types and the notation"
   ]
  },
  {
   "cell_type": "code",
   "execution_count": null,
   "id": "abe8fb35",
   "metadata": {},
   "outputs": [],
   "source": [
    "#Change the format to avoid printing numbers in a scientific format\n",
    "pd.options.display.float_format = '{:.2f}'.format"
   ]
  },
  {
   "cell_type": "markdown",
   "id": "0d79f0f6",
   "metadata": {},
   "source": [
    "#### Descriptive statistics"
   ]
  },
  {
   "cell_type": "code",
   "execution_count": null,
   "id": "5884611f",
   "metadata": {},
   "outputs": [],
   "source": [
    "df_full.describe()"
   ]
  },
  {
   "cell_type": "markdown",
   "id": "fdb2953a",
   "metadata": {},
   "source": [
    "#### Correlation plot"
   ]
  },
  {
   "cell_type": "code",
   "execution_count": null,
   "id": "6116466d",
   "metadata": {},
   "outputs": [],
   "source": [
    "plt.figure(figsize=(25,15)) \n",
    "sns.heatmap(df_full.corr(),annot=True,cmap='cubehelix_r') \n",
    "plt.show()"
   ]
  },
  {
   "cell_type": "markdown",
   "id": "33e5a8c2",
   "metadata": {},
   "source": [
    "#### Funding aquired by the startups"
   ]
  },
  {
   "cell_type": "code",
   "execution_count": null,
   "id": "7e7cb37c",
   "metadata": {},
   "outputs": [],
   "source": [
    "#Histogram of total funding aquired by the startups\n",
    "\n",
    "fig=plt.figure()\n",
    "ax = fig.add_subplot(1,1,1)\n",
    "ax.hist(df_full['funding_total_usd'], bins = 5000)\n",
    "ax.set_xlim(left=0, right=200000000);"
   ]
  },
  {
   "cell_type": "code",
   "execution_count": null,
   "id": "3d3578c4",
   "metadata": {},
   "outputs": [],
   "source": [
    "#Histogram of total funding aquired by the startups - zoom on the values smaller than 50000000\n",
    "\n",
    "fig=plt.figure()\n",
    "ax = fig.add_subplot(1,1,1)\n",
    "ax.hist(df_full['funding_total_usd'], bins = 10000)\n",
    "ax.set_xlim(left=0, right=50000000);"
   ]
  },
  {
   "cell_type": "markdown",
   "id": "b8c0b6db",
   "metadata": {},
   "source": [
    "#### Top startups"
   ]
  },
  {
   "cell_type": "code",
   "execution_count": null,
   "id": "fa4dc378",
   "metadata": {},
   "outputs": [],
   "source": [
    "pd.set_option('display.max_columns', None)"
   ]
  },
  {
   "cell_type": "markdown",
   "id": "8435deee",
   "metadata": {},
   "source": [
    "#### Status of the start-ups"
   ]
  },
  {
   "cell_type": "code",
   "execution_count": null,
   "id": "ffa88306",
   "metadata": {},
   "outputs": [],
   "source": [
    "df_full['status'].value_counts()"
   ]
  },
  {
   "cell_type": "markdown",
   "id": "1523fa9c",
   "metadata": {},
   "source": [
    "#### Total funding by the market"
   ]
  },
  {
   "cell_type": "code",
   "execution_count": null,
   "id": "5d0fa2fd",
   "metadata": {},
   "outputs": [],
   "source": [
    "len(df_full['market'].unique())"
   ]
  },
  {
   "cell_type": "code",
   "execution_count": null,
   "id": "37c6e5c9",
   "metadata": {},
   "outputs": [],
   "source": [
    "plt.rcParams['figure.figsize'] = 15,8\n",
    "\n",
    "height = df_full['market'].value_counts()[:15].tolist()\n",
    "bars =  df_full['market'].value_counts()[:15].index.tolist()\n",
    "y_pos = np.arange(len(bars))\n",
    "plt.bar(y_pos, height , width=0.7 ,color= ['c']+['paleturquoise']*14)\n",
    "plt.xticks(y_pos, bars)\n",
    "plt.xticks(rotation=90)\n",
    "plt.title(\"Top 15 Start-Up market category\", fontdict=None, position= [0.48,1.05], size = 'x-large')\n",
    "plt.show()"
   ]
  },
  {
   "cell_type": "code",
   "execution_count": null,
   "id": "3378ce87",
   "metadata": {},
   "outputs": [],
   "source": [
    "Facebook_total_funding = df_full['funding_total_usd'][df_full['name']==\"Facebook\"].values[0]\n",
    "Uber_total_funding = df_full['funding_total_usd'][df_full['name']==\"Uber\"].values[0]\n",
    "Alibaba_total_funding = df_full['funding_total_usd'][df_full['name']==\"Alibaba\"].values[0]\n",
    "Cloudera_total_funding = df_full['funding_total_usd'][df_full['name']==\"Cloudera\"].values[0]\n",
    "\n",
    "plt.rcParams['figure.figsize'] = 15,6\n",
    "\n",
    "plt.hist(df_full['funding_total_usd'][(df_full['funding_total_usd'] >= 1000000000)&(df_full['funding_total_usd'] <= 3000000000)].dropna(), bins=30,color = 'lightcyan' )\n",
    "plt.ylabel('Count')\n",
    "plt.xlabel('Funding (usd)')\n",
    "plt.title(\"Where are the well-known companies ? \", fontdict=None, position= [0.48,1.05], size = 'x-large')\n",
    "\n",
    "plt.axvline(Facebook_total_funding,color='royalblue',linestyle =\"--\")\n",
    "plt.text(Facebook_total_funding+15000000, 2.6,\"Facebook\")\n",
    "\n",
    "plt.axvline(Uber_total_funding,color='black',linestyle =\"--\")\n",
    "plt.text(Uber_total_funding+10000000, 2.2,\"Uber\")\n",
    "\n",
    "plt.axvline(Cloudera_total_funding,color='dodgerblue',linestyle =\"--\")\n",
    "plt.text(Cloudera_total_funding+10000000, 1.9,\"Cloudera\")\n",
    "\n",
    "plt.axvline(Alibaba_total_funding,color='orange',linestyle =\"--\")\n",
    "plt.text(Alibaba_total_funding+10000000, 1.6,\"Alibaba\")\n",
    "#plt.ticklabel_format(style='plain')\n",
    "\n",
    "\n",
    "\n",
    "plt.show()"
   ]
  },
  {
   "cell_type": "markdown",
   "id": "cad60b1f",
   "metadata": {},
   "source": [
    "#### How was the distribution of the funding given the economic events"
   ]
  },
  {
   "cell_type": "code",
   "execution_count": null,
   "id": "29e90177",
   "metadata": {},
   "outputs": [],
   "source": [
    "df_full['founded_at'] = pd.to_datetime(df_full['founded_at'])"
   ]
  },
  {
   "cell_type": "code",
   "execution_count": null,
   "id": "df192ae5",
   "metadata": {},
   "outputs": [],
   "source": [
    "plt.rcParams['figure.figsize'] = 15,6\n",
    "df_full['name'].groupby(df_full[\"founded_at\"].dt.year).count().plot(kind=\"line\")\n",
    "\n",
    "plt.ylabel('Count')\n",
    "plt.title(\"Founded distribution \", fontdict=None, position= [0.48,1.05], size = 'x-large')\n",
    "\n",
    "plt.axvline(2008,color='red')\n",
    "plt.text(2008+0.15, 6800,\"US Housing Crisis \\n(2008)\")\n",
    "\n",
    "plt.axvline(2001,color='red')\n",
    "plt.text(2001+0.15, 2000,\"Dot Com Bubble \\n(2001)\")\n",
    "\n",
    "plt.axvline(2014,color='red')\n",
    "plt.text(2014+0.15, 2000,\"Russo Ukranian War \\n(2014)\")\n",
    "plt.show()"
   ]
  },
  {
   "cell_type": "markdown",
   "id": "205a6091",
   "metadata": {},
   "source": [
    "### When the companies were founded?"
   ]
  },
  {
   "cell_type": "code",
   "execution_count": null,
   "id": "c3a750e1",
   "metadata": {},
   "outputs": [],
   "source": [
    "df_full['founded_at'] = pd.to_datetime(df_full['founded_at'], errors = 'coerce' )"
   ]
  },
  {
   "cell_type": "code",
   "execution_count": null,
   "id": "f758970e",
   "metadata": {},
   "outputs": [],
   "source": [
    "plt.rcParams['figure.figsize'] = 15,6\n",
    "df_full['name'].groupby(df_full[\"founded_at\"].dt.year).count().plot(kind=\"line\")\n",
    "\n",
    "plt.ylabel('Count')\n",
    "plt.title(\"Founded distribution \", fontdict=None, position= [0.48,1.05], size = 'x-large')\n",
    "plt.show()"
   ]
  },
  {
   "cell_type": "code",
   "execution_count": null,
   "id": "a609ffe2",
   "metadata": {},
   "outputs": [],
   "source": [
    "Facebook_founded_year = df_full['founded_at'][df_full['name']==\"Facebook\"].dt.year.values[0]\n",
    "Uber_founded_year  = df_full['founded_at'][df_full['name']==\"Uber\"].dt.year.values[0]\n",
    "Alibaba_founded_year  = df_full['founded_at'][df_full['name']==\"Alibaba\"].dt.year.values[0]"
   ]
  },
  {
   "cell_type": "code",
   "execution_count": null,
   "id": "e82ffdc4",
   "metadata": {},
   "outputs": [],
   "source": [
    "plt.rcParams['figure.figsize'] = 15,6\n",
    "df_full['name'][df_full[\"founded_at\"].dt.year >= 1990].groupby(df_full[\"founded_at\"].dt.year).count().plot(kind=\"line\")\n",
    "plt.ylabel('Count')\n",
    "\n",
    "plt.axvline(Facebook_founded_year,color='royalblue',linestyle =\"--\")\n",
    "plt.text(Facebook_founded_year+0.15, 3000,\"Facebook \\n (2004)\")\n",
    "\n",
    "plt.axvline(Uber_founded_year,color='black',linestyle =\"--\")\n",
    "plt.text(Uber_founded_year+0.15, 4000,\"Uber \\n(2009)\")\n",
    "\n",
    "plt.axvline(Alibaba_founded_year,color='orange',linestyle =\"--\")\n",
    "plt.text(Alibaba_founded_year+0.15, 2000,\"Alibaba \\n(1999)\")\n",
    "\n",
    "\n",
    "plt.title(\"When the well-known company found ?\", fontdict=None, position= [0.48,1.05], size = 'x-large')\n",
    "plt.show()"
   ]
  },
  {
   "cell_type": "markdown",
   "id": "e8d4e503",
   "metadata": {},
   "source": [
    "### The markets"
   ]
  },
  {
   "cell_type": "code",
   "execution_count": null,
   "id": "0df89fae",
   "metadata": {},
   "outputs": [],
   "source": [
    "df_full['count'] = 1\n",
    "country_market = df_full[['count','country_code','market']].groupby(['country_code','market']).agg({'count': 'sum'})\n",
    "# Change: groupby state_office and divide by sum\n",
    "country_market_pct = country_market.groupby(level=0).apply(lambda x:\n",
    "                                                 100 * x / float(x.sum()))\n",
    "country_market_pct.reset_index(inplace = True)"
   ]
  },
  {
   "cell_type": "code",
   "execution_count": null,
   "id": "93497ff5",
   "metadata": {},
   "outputs": [],
   "source": [
    "USA_market_pct = country_market_pct[country_market_pct['country_code'] == \"USA\"]\n",
    "USA_market_pct = USA_market_pct.sort_values('count',ascending = False)[0:10]"
   ]
  },
  {
   "cell_type": "code",
   "execution_count": null,
   "id": "0effe56a",
   "metadata": {},
   "outputs": [],
   "source": [
    "## USA\n",
    "plt.rcParams['figure.figsize'] =10,10\n",
    "labels = list(USA_market_pct['market'])+['Other...']\n",
    "sizes = list(USA_market_pct['count'])+[100-USA_market_pct['count'].sum()]\n",
    "explode = (0.18, 0.12, 0.09,0,0,0,0,0,0,0,0.01)\n",
    "colors =  ['royalblue','mediumaquamarine','moccasin'] +['oldlace']*8\n",
    "\n",
    "plt.pie(sizes, explode = explode, colors = colors ,labels=labels, autopct='%1.1f%%',\n",
    "        shadow=False, startangle=30)\n",
    "plt.axis('equal')\n",
    "plt.tight_layout()\n",
    "plt.title(\"USA start up market\", fontdict=None, position= [0.48,1.1], size = 'x-large')\n",
    "\n",
    "plt.show()\n"
   ]
  },
  {
   "cell_type": "markdown",
   "id": "94619132",
   "metadata": {},
   "source": [
    "### How much money"
   ]
  },
  {
   "cell_type": "code",
   "execution_count": null,
   "id": "0992e07d",
   "metadata": {},
   "outputs": [],
   "source": [
    "#Create the df_grouped data frame which will be used for external data analysis\n",
    "df_grouped = df_full.groupby(df_full[\"founded_at\"].dt.year)[\"funding_total_usd\"].sum()\n",
    "df_grouped"
   ]
  },
  {
   "cell_type": "code",
   "execution_count": null,
   "id": "bb53452c",
   "metadata": {},
   "outputs": [],
   "source": [
    "#Top invested categories, can be compared with the graph above including the total number of startups\n",
    "df_full.groupby('market').sum()['funding_total_usd'].sort_values(ascending=False).head()"
   ]
  },
  {
   "cell_type": "markdown",
   "id": "99d8332b",
   "metadata": {},
   "source": [
    "### Country Analyses"
   ]
  },
  {
   "cell_type": "code",
   "execution_count": null,
   "id": "49a83ab0",
   "metadata": {},
   "outputs": [],
   "source": [
    "#Country\n",
    "plt.figure(figsize=(20,5))\n",
    "sns.countplot(x ='country_code', data = df_full, order=df_full['country_code'].value_counts().iloc[:8].index)\n",
    "plt.xticks(rotation=45)\n",
    "plt.show()"
   ]
  },
  {
   "cell_type": "code",
   "execution_count": null,
   "id": "d9eabc90",
   "metadata": {},
   "outputs": [],
   "source": [
    "plt.figure(figsize=(20,5))\n",
    "g = sns.countplot(x ='state_code', data = df_full[(df_full['country_code'] =='USA')], order=df_full['state_code'].value_counts().iloc[:9].index)\n",
    "plt.xticks(rotation=45)\n",
    "plt.show()"
   ]
  },
  {
   "cell_type": "markdown",
   "id": "c1abe8d8",
   "metadata": {},
   "source": [
    "### Markets"
   ]
  },
  {
   "cell_type": "code",
   "execution_count": null,
   "id": "dff8590a",
   "metadata": {},
   "outputs": [],
   "source": [
    "# fig,axes = plt.subplots(1,1,figsize=(20,5))\n",
    "# sns.countplot(df_full.market, order = df_full.market.value_counts()[:20].index)\n",
    "# plt.xticks(rotation = 50)\n",
    "# plt.show()"
   ]
  }
 ],
 "metadata": {
  "kernelspec": {
   "display_name": "Python 3 (ipykernel)",
   "language": "python",
   "name": "python3"
  },
  "language_info": {
   "codemirror_mode": {
    "name": "ipython",
    "version": 3
   },
   "file_extension": ".py",
   "mimetype": "text/x-python",
   "name": "python",
   "nbconvert_exporter": "python",
   "pygments_lexer": "ipython3",
   "version": "3.9.16"
  }
 },
 "nbformat": 4,
 "nbformat_minor": 5
}
